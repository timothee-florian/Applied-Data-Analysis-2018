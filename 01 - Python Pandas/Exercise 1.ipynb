{
 "cells": [
  {
   "cell_type": "markdown",
   "metadata": {},
   "source": [
    "# Exercise 1\n",
    " <p><div class=\"lev1\"><a href=\"#Task-A.-Another-LEGO-brick-in-the-wall\"><span class=\"toc-item-num\">Task A.&nbsp;&nbsp;</span>Another LEGO brick in the wall</a></div>\n",
    " <p><div class=\"lev1\"><a href=\"#Task-B.-Drop-the-Bike\"><span class=\"toc-item-num\">Task B.&nbsp;&nbsp;</span>Drop the Bike</a></div>"
   ]
  },
  {
   "cell_type": "code",
   "execution_count": 1,
   "metadata": {},
   "outputs": [],
   "source": [
    "# Add your imports here\n",
    "import os\n",
    "import pandas as pd\n",
    "import numpy as np\n",
    "import re # Is it ok to have this\n",
    "import matplotlib.pyplot as plt\n",
    "from datetime import datetime # for part B3"
   ]
  },
  {
   "cell_type": "code",
   "execution_count": 2,
   "metadata": {},
   "outputs": [],
   "source": [
    "%matplotlib inline\n",
    "plt.rcParams['figure.figsize'] = [10, 7]"
   ]
  },
  {
   "cell_type": "code",
   "execution_count": 3,
   "metadata": {},
   "outputs": [],
   "source": [
    "DATA_FOLDER = 'data'"
   ]
  },
  {
   "cell_type": "markdown",
   "metadata": {},
   "source": [
    "## Task A. Another LEGO brick in the wall\n",
    "\n",
    "LEGO is a popular brand of toy building bricks. They are often sold in sets in order to build a specific object. Each set contains a number of parts in different shapes, sizes and colors. This database contains information on which parts are included in different LEGO sets. It was originally compiled to help people who owned some LEGO sets already figure out what other sets they could build with the pieces they had.\n",
    "\n",
    "This dataset contains the official LEGO colors, parts, inventories (i.e., sets of LEGO parts which assembled create an object in the LEGO world) and sets (i.e., sets of LEGO inventories which assembled create a LEGO ecosystem). The schema of the dataset can be shown in the following UML diagram: \n",
    "\n",
    "![lego-schema](lego-schema.png)\n",
    "\n",
    "In this task you have to apply the following Data Wrangling pipeline:\n",
    "1. Load your data into `Pandas`\n",
    "* Explore it and clean its dirty parts\n",
    "* Use it to answer a set of queries\n",
    "\n",
    "Each of these subtasks are described in detail below."
   ]
  },
  {
   "cell_type": "markdown",
   "metadata": {},
   "source": [
    "### A1. Loading phase\n",
    "Load all the csv files into different `DataFrames`. Use meaningful names for your `DataFrames` (e.g., the respective filenames).\n",
    "\n",
    "*Hint: You can load files without first unzipping them (for `Pandas` version >= 0.18.1).*"
   ]
  },
  {
   "cell_type": "code",
   "execution_count": 4,
   "metadata": {},
   "outputs": [
    {
     "data": {
      "text/plain": [
       "'data/lego/'"
      ]
     },
     "execution_count": 4,
     "metadata": {},
     "output_type": "execute_result"
    }
   ],
   "source": [
    "LEGO_DATA_FOLDER = DATA_FOLDER + '/lego/'\n",
    "LEGO_DATA_FOLDER"
   ]
  },
  {
   "cell_type": "code",
   "execution_count": 5,
   "metadata": {},
   "outputs": [],
   "source": [
    "# Write your code here\n",
    "files = os.listdir(LEGO_DATA_FOLDER)\n",
    "data_set = dict()\n",
    "for file in files:\n",
    "    name = file.split('.')[0]\n",
    "    df = pd.read_csv(LEGO_DATA_FOLDER + '/' +file)\n",
    "    exec(name + '= df')"
   ]
  },
  {
   "cell_type": "markdown",
   "metadata": {},
   "source": [
    "### A2. Cleaning phase\n",
    "Explore the following columns from your dataset:\n",
    "\n",
    "1. sets: year\n",
    "* inventory_parts: quantity\n",
    "\n",
    "What is the time range of the sets? \n",
    "What is the average quantity of the inventory parts? \n",
    "Do you see any inconsistencies? \n",
    "Provide code that detects and cleans such inconsistencies and validates the coherence of your dataset. \n",
    "\n",
    "#### This part is dedicated to sets"
   ]
  },
  {
   "cell_type": "code",
   "execution_count": 6,
   "metadata": {},
   "outputs": [
    {
     "data": {
      "text/plain": [
       "array(['-1962', '-1966', '-1969', '-1971', '-1973', '-1975', '-1977',\n",
       "       '-1979', '-1980', '-1981', '-1982', '-1983', '-1984', '-1985',\n",
       "       '-1986', '-1987', '-1988', '-1989', '-1991', '-1992', '-1993',\n",
       "       '-1994', '-1995', '-1996', '-1997', '-19977', '-1998', '-1999',\n",
       "       '-19999', '-2000', '-20000', '-2001', '-20011', '-2002', '-20022',\n",
       "       '-2003', '-20033', '-2004', '-20044', '-2005', '-2006', '-20066',\n",
       "       '-2007', '-20077', '-2008', '-2009', '-20099', '-2010', '-20100',\n",
       "       '-2011', '-20111', '-2012', '-20122', '-2013', '-20133', '-2014',\n",
       "       '-20144', '-2015', '-20155', '-2016', '-20166', '-2017', '1950',\n",
       "       '1953', '1954', '1955', '19555', '1956', '1957', '1958', '1959',\n",
       "       '1960', '1961', '1962', '19622', '1963', '1964', '1965', '1966',\n",
       "       '19666', '1967', '1968', '1969', '19699', '1971', '1972', '19722',\n",
       "       '1973', '1974', '1975', '1976', '1977', '19777', '1978', '19788',\n",
       "       '1979', '19799', '19800', '1981', '19811', '1982', '19822', '1983',\n",
       "       '19833', '1984', '19844', '1985', '19855', '1986', '19866', '1987',\n",
       "       '19877', '1988', '19888', '1989', '19899', '1990', '19900', '1991',\n",
       "       '19911', '1992', '19922', '1993', '19933', '1994', '19944', '1995',\n",
       "       '19955', '1996', '19966', '1997', '19977', '1998', '19988', '1999',\n",
       "       '19999', '2000', '20000', '2001', '20011', '2002', '20022', '2003',\n",
       "       '20033', '2004', '20044', '2005', '20055', '2006', '20066', '2007',\n",
       "       '20077', '2008', '20088', '2009', '20099', '2010', '20100', '2011',\n",
       "       '20111', '2012', '20122', '2013', '20133', '2014', '20144', '2015',\n",
       "       '20155', '2016', '20166', '2017', '20177', '70s', '80s'],\n",
       "      dtype=object)"
      ]
     },
     "execution_count": 6,
     "metadata": {},
     "output_type": "execute_result"
    }
   ],
   "source": [
    "# We first take a look at the table\n",
    "sets.sort_values(ascending=True,by=['year']).year.unique()"
   ]
  },
  {
   "cell_type": "markdown",
   "metadata": {},
   "source": [
    "As we can see, $\\text{range}\\in [1950:2017]$  \n",
    "Which is consistent with the creation of the compagnie LEGO (created in 1949)\n",
    "\n",
    "We can clean the data in a way that any incoherence is turned into NaN values:"
   ]
  },
  {
   "cell_type": "code",
   "execution_count": 7,
   "metadata": {},
   "outputs": [
    {
     "name": "stdout",
     "output_type": "stream",
     "text": [
      "Proportion of kept data: 73.57148976270025 %\n"
     ]
    },
    {
     "data": {
      "text/plain": [
       "array([1950., 1953., 1954., 1955., 1956., 1957., 1958., 1959., 1960.,\n",
       "       1961., 1962., 1963., 1964., 1965., 1966., 1967., 1968., 1969.,\n",
       "       1971., 1972., 1973., 1974., 1975., 1976., 1977., 1978., 1979.,\n",
       "       1981., 1982., 1983., 1984., 1985., 1986., 1987., 1988., 1989.,\n",
       "       1990., 1991., 1992., 1993., 1994., 1995., 1996., 1997., 1998.,\n",
       "       1999., 2000., 2001., 2002., 2003., 2004., 2005., 2006., 2007.,\n",
       "       2008., 2009., 2010., 2011., 2012., 2013., 2014., 2015., 2016.,\n",
       "       2017.,   nan])"
      ]
     },
     "execution_count": 7,
     "metadata": {},
     "output_type": "execute_result"
    }
   ],
   "source": [
    "sets_cleaned = sets.copy()\n",
    "\n",
    "# Only keeping values between [1949 : 2018] and everything else to NaN\n",
    "sets_cleaned['year'] = sets_cleaned['year'].apply(lambda x: pd.to_numeric(x, errors='coerce'))\n",
    "sets_cleaned.loc[~sets_cleaned['year'].between(1949,2018) , 'year'] = np.nan\n",
    "\n",
    "# Check\n",
    "print(\"Proportion of kept data:\",100*sets_cleaned.year.dropna().count()/sets.year.count(), '%')\n",
    "sets_cleaned.sort_values(ascending=True,by=['year'])['year'].unique()"
   ]
  },
  {
   "cell_type": "markdown",
   "metadata": {},
   "source": [
    "As we can see, we keep **73%** a the dataset.  \n",
    "But if we want to keep as much data as possible, we have to infer the values of the year as follow:\n",
    "- Remove '-' from negative numbers, assuming the years are positive\n",
    "- We don't know what year, 70s and 80s are corresponding exactly, we should convert them to NaN \n",
    "- Convert into float, otherwise NaN numbers can't be represented\n",
    "- Keep only the first 4 digits. We noticed that when there is more than 4 digits, it is always the last one which is duplicated"
   ]
  },
  {
   "cell_type": "code",
   "execution_count": 8,
   "metadata": {},
   "outputs": [
    {
     "name": "stdout",
     "output_type": "stream",
     "text": [
      "Proportion of kept data: 99.02338730403496 %\n"
     ]
    },
    {
     "data": {
      "text/plain": [
       "array([1950., 1953., 1954., 1955., 1956., 1957., 1958., 1959., 1960.,\n",
       "       1961., 1962., 1963., 1964., 1965., 1966., 1967., 1968., 1969.,\n",
       "       1971., 1972., 1973., 1974., 1975., 1976., 1977., 1978., 1979.,\n",
       "       1980., 1981., 1982., 1983., 1984., 1985., 1986., 1987., 1988.,\n",
       "       1989., 1990., 1991., 1992., 1993., 1994., 1995., 1996., 1997.,\n",
       "       1998., 1999., 2000., 2001., 2002., 2003., 2004., 2005., 2006.,\n",
       "       2007., 2008., 2009., 2010., 2011., 2012., 2013., 2014., 2015.,\n",
       "       2016., 2017.,   nan])"
      ]
     },
     "execution_count": 8,
     "metadata": {},
     "output_type": "execute_result"
    }
   ],
   "source": [
    "sets_cleaned = sets.copy()\n",
    "\n",
    "# Remove any '-':\n",
    "sets_cleaned['year'] = sets_cleaned['year'].apply(lambda x: x.replace('-', ''))\n",
    "\n",
    "# Take the first 4 digits str convert into floats\n",
    "sets_cleaned['year'] = sets_cleaned['year'].apply(lambda x: pd.to_numeric(x[:4], errors='coerce'))\n",
    "\n",
    "# Check\n",
    "print(\"Proportion of kept data:\",100*sets_cleaned.year.dropna().count()/sets.year.count(), '%')\n",
    "sets_cleaned.sort_values(ascending=True,by=['year'])['year'].unique()"
   ]
  },
  {
   "cell_type": "markdown",
   "metadata": {},
   "source": [
    "As we can see, $\\text{range}\\in [1950:2017]$  \n",
    "And we keep **99%** of the data in this case"
   ]
  },
  {
   "cell_type": "markdown",
   "metadata": {},
   "source": [
    "#### This part is dedicated to inventory_parts: quantity DataFrame\n",
    "We need to account the following possible issues to keep as much data as possible:\n",
    "- In 'quantity' there are non finite values, we need to convert them into NaN\n",
    "- Negative values must be positives because negative quantity isn't possible but we assume the value is still correct "
   ]
  },
  {
   "cell_type": "code",
   "execution_count": 9,
   "metadata": {},
   "outputs": [
    {
     "data": {
      "text/html": [
       "<div>\n",
       "<style scoped>\n",
       "    .dataframe tbody tr th:only-of-type {\n",
       "        vertical-align: middle;\n",
       "    }\n",
       "\n",
       "    .dataframe tbody tr th {\n",
       "        vertical-align: top;\n",
       "    }\n",
       "\n",
       "    .dataframe thead th {\n",
       "        text-align: right;\n",
       "    }\n",
       "</style>\n",
       "<table border=\"1\" class=\"dataframe\">\n",
       "  <thead>\n",
       "    <tr style=\"text-align: right;\">\n",
       "      <th></th>\n",
       "      <th>inventory_id</th>\n",
       "      <th>part_id</th>\n",
       "      <th>color_id</th>\n",
       "      <th>quantity</th>\n",
       "      <th>is_spare</th>\n",
       "    </tr>\n",
       "  </thead>\n",
       "  <tbody>\n",
       "    <tr>\n",
       "      <th>444192</th>\n",
       "      <td>13009</td>\n",
       "      <td>2301</td>\n",
       "      <td>4</td>\n",
       "      <td>4.000000</td>\n",
       "      <td>f</td>\n",
       "    </tr>\n",
       "    <tr>\n",
       "      <th>493584</th>\n",
       "      <td>14494</td>\n",
       "      <td>3022</td>\n",
       "      <td>0</td>\n",
       "      <td>1.000000</td>\n",
       "      <td>f</td>\n",
       "    </tr>\n",
       "    <tr>\n",
       "      <th>555754</th>\n",
       "      <td>16325</td>\n",
       "      <td>60219</td>\n",
       "      <td>72</td>\n",
       "      <td>-inf</td>\n",
       "      <td>f</td>\n",
       "    </tr>\n",
       "    <tr>\n",
       "      <th>223756</th>\n",
       "      <td>6656</td>\n",
       "      <td>3001</td>\n",
       "      <td>71</td>\n",
       "      <td>3.000000</td>\n",
       "      <td>f</td>\n",
       "    </tr>\n",
       "    <tr>\n",
       "      <th>86179</th>\n",
       "      <td>2573</td>\n",
       "      <td>3022</td>\n",
       "      <td>15</td>\n",
       "      <td>-inf</td>\n",
       "      <td>f</td>\n",
       "    </tr>\n",
       "    <tr>\n",
       "      <th>251236</th>\n",
       "      <td>7473</td>\n",
       "      <td>3680</td>\n",
       "      <td>0</td>\n",
       "      <td>1.000000</td>\n",
       "      <td>f</td>\n",
       "    </tr>\n",
       "    <tr>\n",
       "      <th>564289</th>\n",
       "      <td>16813</td>\n",
       "      <td>3023</td>\n",
       "      <td>378</td>\n",
       "      <td>3.000000</td>\n",
       "      <td>f</td>\n",
       "    </tr>\n",
       "    <tr>\n",
       "      <th>151571</th>\n",
       "      <td>4516</td>\n",
       "      <td>93058</td>\n",
       "      <td>297</td>\n",
       "      <td>-inf</td>\n",
       "      <td>f</td>\n",
       "    </tr>\n",
       "    <tr>\n",
       "      <th>165194</th>\n",
       "      <td>4952</td>\n",
       "      <td>4229</td>\n",
       "      <td>0</td>\n",
       "      <td>8.000000</td>\n",
       "      <td>f</td>\n",
       "    </tr>\n",
       "    <tr>\n",
       "      <th>483214</th>\n",
       "      <td>14208</td>\n",
       "      <td>59900</td>\n",
       "      <td>72</td>\n",
       "      <td>1.000000</td>\n",
       "      <td>f</td>\n",
       "    </tr>\n",
       "  </tbody>\n",
       "</table>\n",
       "</div>"
      ],
      "text/plain": [
       "        inventory_id part_id  color_id  quantity is_spare\n",
       "444192         13009    2301         4  4.000000        f\n",
       "493584         14494    3022         0  1.000000        f\n",
       "555754         16325   60219        72      -inf        f\n",
       "223756          6656    3001        71  3.000000        f\n",
       "86179           2573    3022        15      -inf        f\n",
       "251236          7473    3680         0  1.000000        f\n",
       "564289         16813    3023       378  3.000000        f\n",
       "151571          4516   93058       297      -inf        f\n",
       "165194          4952    4229         0  8.000000        f\n",
       "483214         14208   59900        72  1.000000        f"
      ]
     },
     "execution_count": 9,
     "metadata": {},
     "output_type": "execute_result"
    }
   ],
   "source": [
    "inventory_parts.sample(10,random_state=1)"
   ]
  },
  {
   "cell_type": "code",
   "execution_count": 10,
   "metadata": {},
   "outputs": [
    {
     "name": "stdout",
     "output_type": "stream",
     "text": [
      "Proportion of kept data: 72.11620488374858 %\n"
     ]
    },
    {
     "data": {
      "text/html": [
       "<div>\n",
       "<style scoped>\n",
       "    .dataframe tbody tr th:only-of-type {\n",
       "        vertical-align: middle;\n",
       "    }\n",
       "\n",
       "    .dataframe tbody tr th {\n",
       "        vertical-align: top;\n",
       "    }\n",
       "\n",
       "    .dataframe thead th {\n",
       "        text-align: right;\n",
       "    }\n",
       "</style>\n",
       "<table border=\"1\" class=\"dataframe\">\n",
       "  <thead>\n",
       "    <tr style=\"text-align: right;\">\n",
       "      <th></th>\n",
       "      <th>inventory_id</th>\n",
       "      <th>part_id</th>\n",
       "      <th>color_id</th>\n",
       "      <th>quantity</th>\n",
       "      <th>is_spare</th>\n",
       "    </tr>\n",
       "  </thead>\n",
       "  <tbody>\n",
       "    <tr>\n",
       "      <th>444192</th>\n",
       "      <td>13009</td>\n",
       "      <td>2301</td>\n",
       "      <td>4</td>\n",
       "      <td>4.0</td>\n",
       "      <td>f</td>\n",
       "    </tr>\n",
       "    <tr>\n",
       "      <th>493584</th>\n",
       "      <td>14494</td>\n",
       "      <td>3022</td>\n",
       "      <td>0</td>\n",
       "      <td>1.0</td>\n",
       "      <td>f</td>\n",
       "    </tr>\n",
       "    <tr>\n",
       "      <th>555754</th>\n",
       "      <td>16325</td>\n",
       "      <td>60219</td>\n",
       "      <td>72</td>\n",
       "      <td>NaN</td>\n",
       "      <td>f</td>\n",
       "    </tr>\n",
       "    <tr>\n",
       "      <th>223756</th>\n",
       "      <td>6656</td>\n",
       "      <td>3001</td>\n",
       "      <td>71</td>\n",
       "      <td>3.0</td>\n",
       "      <td>f</td>\n",
       "    </tr>\n",
       "    <tr>\n",
       "      <th>86179</th>\n",
       "      <td>2573</td>\n",
       "      <td>3022</td>\n",
       "      <td>15</td>\n",
       "      <td>NaN</td>\n",
       "      <td>f</td>\n",
       "    </tr>\n",
       "    <tr>\n",
       "      <th>251236</th>\n",
       "      <td>7473</td>\n",
       "      <td>3680</td>\n",
       "      <td>0</td>\n",
       "      <td>1.0</td>\n",
       "      <td>f</td>\n",
       "    </tr>\n",
       "    <tr>\n",
       "      <th>564289</th>\n",
       "      <td>16813</td>\n",
       "      <td>3023</td>\n",
       "      <td>378</td>\n",
       "      <td>3.0</td>\n",
       "      <td>f</td>\n",
       "    </tr>\n",
       "    <tr>\n",
       "      <th>151571</th>\n",
       "      <td>4516</td>\n",
       "      <td>93058</td>\n",
       "      <td>297</td>\n",
       "      <td>NaN</td>\n",
       "      <td>f</td>\n",
       "    </tr>\n",
       "    <tr>\n",
       "      <th>165194</th>\n",
       "      <td>4952</td>\n",
       "      <td>4229</td>\n",
       "      <td>0</td>\n",
       "      <td>8.0</td>\n",
       "      <td>f</td>\n",
       "    </tr>\n",
       "    <tr>\n",
       "      <th>483214</th>\n",
       "      <td>14208</td>\n",
       "      <td>59900</td>\n",
       "      <td>72</td>\n",
       "      <td>1.0</td>\n",
       "      <td>f</td>\n",
       "    </tr>\n",
       "  </tbody>\n",
       "</table>\n",
       "</div>"
      ],
      "text/plain": [
       "        inventory_id part_id  color_id  quantity is_spare\n",
       "444192         13009    2301         4       4.0        f\n",
       "493584         14494    3022         0       1.0        f\n",
       "555754         16325   60219        72       NaN        f\n",
       "223756          6656    3001        71       3.0        f\n",
       "86179           2573    3022        15       NaN        f\n",
       "251236          7473    3680         0       1.0        f\n",
       "564289         16813    3023       378       3.0        f\n",
       "151571          4516   93058       297       NaN        f\n",
       "165194          4952    4229         0       8.0        f\n",
       "483214         14208   59900        72       1.0        f"
      ]
     },
     "execution_count": 10,
     "metadata": {},
     "output_type": "execute_result"
    }
   ],
   "source": [
    "# First we need to clean/convert numeric values from 'quantity' columns\n",
    "# Floor for non integer values!\n",
    "inv_part_cleaned = inventory_parts.copy()\n",
    "inv_part_cleaned['quantity'] = pd.to_numeric(inv_part_cleaned['quantity'],errors='coerce')\n",
    "inv_part_cleaned['quantity'] = inv_part_cleaned['quantity'].apply(lambda x: np.nan if (~np.isfinite(x)) else abs(x))\n",
    "\n",
    "print(\"Proportion of kept data:\",100*inv_part_cleaned.quantity.dropna().count()/inventory_parts.quantity.count(),'%')\n",
    "inv_part_cleaned.sample(10,random_state=1)"
   ]
  },
  {
   "cell_type": "code",
   "execution_count": 11,
   "metadata": {},
   "outputs": [
    {
     "name": "stdout",
     "output_type": "stream",
     "text": [
      "Are ['inventory_id', 'part_id', 'color_id'] forming a primary key?\n"
     ]
    },
    {
     "data": {
      "text/plain": [
       "False"
      ]
     },
     "execution_count": 11,
     "metadata": {},
     "output_type": "execute_result"
    }
   ],
   "source": [
    "print(\"Are ['inventory_id', 'part_id', 'color_id'] forming a primary key?\")\n",
    "~inv_part_cleaned[['inventory_id', 'part_id', 'color_id']].duplicated().any()"
   ]
  },
  {
   "cell_type": "markdown",
   "metadata": {},
   "source": [
    "As we can see from the previous line, the inventory_id, part_id, color_id isn't a unique key, we need to groupy inventory_id, part_id and color_id to create unique entries, we assume that if an entry is duplicated it mean that one has been added instead of uploading the existing one so we need to sum the quantity"
   ]
  },
  {
   "cell_type": "code",
   "execution_count": 12,
   "metadata": {},
   "outputs": [],
   "source": [
    "# Remove any duplicates of meta_id using groupby and summing the corresponding quantities to keep track of parts quantity\n",
    "new_pinventory = inv_part_cleaned.groupby(['inventory_id', 'part_id', 'color_id']).agg({'quantity': 'sum'}).reset_index()"
   ]
  },
  {
   "cell_type": "code",
   "execution_count": 13,
   "metadata": {},
   "outputs": [
    {
     "data": {
      "text/html": [
       "<div>\n",
       "<style scoped>\n",
       "    .dataframe tbody tr th:only-of-type {\n",
       "        vertical-align: middle;\n",
       "    }\n",
       "\n",
       "    .dataframe tbody tr th {\n",
       "        vertical-align: top;\n",
       "    }\n",
       "\n",
       "    .dataframe thead th {\n",
       "        text-align: right;\n",
       "    }\n",
       "</style>\n",
       "<table border=\"1\" class=\"dataframe\">\n",
       "  <thead>\n",
       "    <tr style=\"text-align: right;\">\n",
       "      <th></th>\n",
       "      <th>inventory_id</th>\n",
       "      <th>part_id</th>\n",
       "      <th>color_id</th>\n",
       "      <th>quantity</th>\n",
       "    </tr>\n",
       "  </thead>\n",
       "  <tbody>\n",
       "    <tr>\n",
       "      <th>91312</th>\n",
       "      <td>2868</td>\n",
       "      <td>4485</td>\n",
       "      <td>0</td>\n",
       "      <td>1.0</td>\n",
       "    </tr>\n",
       "    <tr>\n",
       "      <th>516992</th>\n",
       "      <td>15896</td>\n",
       "      <td>3011</td>\n",
       "      <td>2</td>\n",
       "      <td>1.0</td>\n",
       "    </tr>\n",
       "    <tr>\n",
       "      <th>7342</th>\n",
       "      <td>210</td>\n",
       "      <td>3829c01</td>\n",
       "      <td>15</td>\n",
       "      <td>1.0</td>\n",
       "    </tr>\n",
       "    <tr>\n",
       "      <th>110074</th>\n",
       "      <td>3437</td>\n",
       "      <td>2540</td>\n",
       "      <td>0</td>\n",
       "      <td>1.0</td>\n",
       "    </tr>\n",
       "    <tr>\n",
       "      <th>187745</th>\n",
       "      <td>5846</td>\n",
       "      <td>30374</td>\n",
       "      <td>42</td>\n",
       "      <td>1.0</td>\n",
       "    </tr>\n",
       "    <tr>\n",
       "      <th>488179</th>\n",
       "      <td>15042</td>\n",
       "      <td>6111</td>\n",
       "      <td>0</td>\n",
       "      <td>1.0</td>\n",
       "    </tr>\n",
       "    <tr>\n",
       "      <th>40984</th>\n",
       "      <td>1292</td>\n",
       "      <td>3460</td>\n",
       "      <td>14</td>\n",
       "      <td>0.0</td>\n",
       "    </tr>\n",
       "    <tr>\n",
       "      <th>184800</th>\n",
       "      <td>5754</td>\n",
       "      <td>30374</td>\n",
       "      <td>41</td>\n",
       "      <td>0.0</td>\n",
       "    </tr>\n",
       "    <tr>\n",
       "      <th>269891</th>\n",
       "      <td>8438</td>\n",
       "      <td>2357</td>\n",
       "      <td>71</td>\n",
       "      <td>4.0</td>\n",
       "    </tr>\n",
       "    <tr>\n",
       "      <th>511018</th>\n",
       "      <td>15713</td>\n",
       "      <td>3010p08</td>\n",
       "      <td>4</td>\n",
       "      <td>1.0</td>\n",
       "    </tr>\n",
       "  </tbody>\n",
       "</table>\n",
       "</div>"
      ],
      "text/plain": [
       "        inventory_id  part_id  color_id  quantity\n",
       "91312           2868     4485         0       1.0\n",
       "516992         15896     3011         2       1.0\n",
       "7342             210  3829c01        15       1.0\n",
       "110074          3437     2540         0       1.0\n",
       "187745          5846    30374        42       1.0\n",
       "488179         15042     6111         0       1.0\n",
       "40984           1292     3460        14       0.0\n",
       "184800          5754    30374        41       0.0\n",
       "269891          8438     2357        71       4.0\n",
       "511018         15713  3010p08         4       1.0"
      ]
     },
     "execution_count": 13,
     "metadata": {},
     "output_type": "execute_result"
    }
   ],
   "source": [
    "# Now the cleaned data looks like this:\n",
    "new_pinventory.sample(10,random_state=1)"
   ]
  },
  {
   "cell_type": "markdown",
   "metadata": {},
   "source": [
    "'is_spare' column has disappeared, we don't need this information so we don't have to keep it.\n",
    "\n",
    "Finally, we get the answer about the average quantity per entries in inventory_parts table:"
   ]
  },
  {
   "cell_type": "code",
   "execution_count": 14,
   "metadata": {},
   "outputs": [
    {
     "name": "stdout",
     "output_type": "stream",
     "text": [
      "Average quantity of inventory parts: 2.903793810032789\n"
     ]
    }
   ],
   "source": [
    "print(\"Average quantity of inventory parts:\", new_pinventory.quantity.mean())"
   ]
  },
  {
   "cell_type": "markdown",
   "metadata": {},
   "source": [
    "### A3. Querying phase\n",
    "Answer the following queries using the functionality of `Pandas`:\n",
    "\n",
    "1. List the ids of the inventories that belong to sets that contain cars. (*Hint: Find a smart way to distinguish which sets contain cars based on the sets' name*).\n",
    "\n",
    "* Plot the distribution of part categories as a (horizontal) bar chart. Restrict yourself to the 20 largest part categories (in terms of the number of parts belonging to the category).\n",
    "\n",
    "* Find the dominant color of each set. Then, plot using a (horizontal) bar chart, the number of sets per dominant color. Color each bar with the respective color that it represents.\n",
    "\n",
    "* Create a scatter plot of the *luminance*\\* of the sets vs their publishing year. What do you observe for the years 1980-1981? How do you interpret what you see?\n",
    "\n",
    "\\*The luminance of a color is a [measure of brightness](https://en.wikipedia.org/wiki/Luminance) which, given its RGB representation, can be computed as follows:\n",
    "\n",
    "$luminance = \\sqrt{0.299*R^2 + 0.587*G^2 + 0.114*B^2}$"
   ]
  },
  {
   "cell_type": "markdown",
   "metadata": {},
   "source": [
    "**1. List the ids of the inventories that belong to sets that contain cars. (*Hint: Find a smart way to distinguish which sets contain cars based on the sets' name*).**"
   ]
  },
  {
   "cell_type": "code",
   "execution_count": 15,
   "metadata": {},
   "outputs": [
    {
     "name": "stdout",
     "output_type": "stream",
     "text": [
      "List of Ids of the inventories containing 'car' or 'cars' in \u001b[1msets\u001b[0m:\n",
      " [  500   908  1716  2559  2814  6296  7881  8202  8348  8820 10028 10158\n",
      " 12110 12437 12851 13083]\n"
     ]
    }
   ],
   "source": [
    "# Merging dataset to link inventory ids with the associated sets name\n",
    "inven_sets_merged=pd.merge(inventory_sets, sets, left_on='set_id', right_on='id')\n",
    "ans = inven_sets_merged[inven_sets_merged['name'].str.contains(' car | cars ', case=False, regex=True)]['inventory_id'].values\n",
    "print(\"List of Ids of the inventories containing 'car' or 'cars' in \\033[1msets\\033[0m:\\n\", np.unique(ans))"
   ]
  },
  {
   "cell_type": "markdown",
   "metadata": {},
   "source": [
    "**2. Plot the distribution of part categories as a (horizontal) bar chart. Restrict yourself to the 20 largest part categories (in terms of the number of parts belonging to the category).**"
   ]
  },
  {
   "cell_type": "code",
   "execution_count": 16,
   "metadata": {},
   "outputs": [
    {
     "data": {
      "image/png": "[encoded data removed]",
      "text/plain": [
       "<Figure size 720x504 with 1 Axes>"
      ]
     },
     "metadata": {},
     "output_type": "display_data"
    }
   ],
   "source": [
    "# Counting the number of part_categories getting the 20 biggest and joining to get the name\n",
    "huge_parts = pd.DataFrame(parts.part_cat_id.value_counts()[:20]).join(part_categories.set_index('id'))\n",
    "huge_parts.columns=['nb_parts', 'name']\n",
    "\n",
    "# * Plotting *\n",
    "plt.barh(huge_parts.name, huge_parts.nb_parts) # Make LEGO great again ! xD\n",
    "plt.xlabel(\"Number of Parts\")\n",
    "plt.title('20 Largest parts')\n",
    "plt.show()"
   ]
  },
  {
   "cell_type": "markdown",
   "metadata": {},
   "source": [
    "3. **Find the dominant color of each set. Then, plot using a (horizontal) bar chart, the number of sets per dominant color. Color each bar with the respective color that it represents.**"
   ]
  },
  {
   "cell_type": "code",
   "execution_count": 17,
   "metadata": {},
   "outputs": [
    {
     "data": {
      "text/html": [
       "<div>\n",
       "<style scoped>\n",
       "    .dataframe tbody tr th:only-of-type {\n",
       "        vertical-align: middle;\n",
       "    }\n",
       "\n",
       "    .dataframe tbody tr th {\n",
       "        vertical-align: top;\n",
       "    }\n",
       "\n",
       "    .dataframe thead th {\n",
       "        text-align: right;\n",
       "    }\n",
       "</style>\n",
       "<table border=\"1\" class=\"dataframe\">\n",
       "  <thead>\n",
       "    <tr style=\"text-align: right;\">\n",
       "      <th></th>\n",
       "      <th>index</th>\n",
       "      <th>inventory_id</th>\n",
       "      <th>part_id</th>\n",
       "      <th>color_id</th>\n",
       "      <th>quantity</th>\n",
       "      <th>set_id</th>\n",
       "    </tr>\n",
       "  </thead>\n",
       "  <tbody>\n",
       "    <tr>\n",
       "      <th>273</th>\n",
       "      <td>285574</td>\n",
       "      <td>8918</td>\n",
       "      <td>14</td>\n",
       "      <td>15</td>\n",
       "      <td>8.0</td>\n",
       "      <td>k1062b</td>\n",
       "    </tr>\n",
       "    <tr>\n",
       "      <th>264</th>\n",
       "      <td>283750</td>\n",
       "      <td>8871</td>\n",
       "      <td>6558</td>\n",
       "      <td>0</td>\n",
       "      <td>3.0</td>\n",
       "      <td>8905-1</td>\n",
       "    </tr>\n",
       "    <tr>\n",
       "      <th>162</th>\n",
       "      <td>267215</td>\n",
       "      <td>8348</td>\n",
       "      <td>3626bpr0387</td>\n",
       "      <td>14</td>\n",
       "      <td>1.0</td>\n",
       "      <td>7907-10</td>\n",
       "    </tr>\n",
       "    <tr>\n",
       "      <th>223</th>\n",
       "      <td>267217</td>\n",
       "      <td>8348</td>\n",
       "      <td>970c00</td>\n",
       "      <td>1</td>\n",
       "      <td>1.0</td>\n",
       "      <td>7907-22</td>\n",
       "    </tr>\n",
       "    <tr>\n",
       "      <th>311</th>\n",
       "      <td>285584</td>\n",
       "      <td>8918</td>\n",
       "      <td>3062a</td>\n",
       "      <td>46</td>\n",
       "      <td>8.0</td>\n",
       "      <td>1062-1</td>\n",
       "    </tr>\n",
       "  </tbody>\n",
       "</table>\n",
       "</div>"
      ],
      "text/plain": [
       "      index  inventory_id      part_id  color_id  quantity   set_id\n",
       "273  285574          8918           14        15       8.0   k1062b\n",
       "264  283750          8871         6558         0       3.0   8905-1\n",
       "162  267215          8348  3626bpr0387        14       1.0  7907-10\n",
       "223  267217          8348       970c00         1       1.0  7907-22\n",
       "311  285584          8918        3062a        46       8.0   1062-1"
      ]
     },
     "execution_count": 17,
     "metadata": {},
     "output_type": "execute_result"
    }
   ],
   "source": [
    "# First w merge our 'new_pinventory' (which is the cleaned version of inventory_parts) with inventory_sets\n",
    "merged_sets = new_pinventory.reset_index().merge(inventory_sets[['set_id','inventory_id']], left_on='inventory_id', right_on='inventory_id')\n",
    "merged_sets.sample(5)"
   ]
  },
  {
   "cell_type": "code",
   "execution_count": 18,
   "metadata": {},
   "outputs": [
    {
     "name": "stdout",
     "output_type": "stream",
     "text": [
      "Is set_id <-> color_id unique?:  True\n",
      "Dominate color for each set:\n"
     ]
    },
    {
     "data": {
      "text/html": [
       "<div>\n",
       "<style scoped>\n",
       "    .dataframe tbody tr th:only-of-type {\n",
       "        vertical-align: middle;\n",
       "    }\n",
       "\n",
       "    .dataframe tbody tr th {\n",
       "        vertical-align: top;\n",
       "    }\n",
       "\n",
       "    .dataframe thead th {\n",
       "        text-align: right;\n",
       "    }\n",
       "</style>\n",
       "<table border=\"1\" class=\"dataframe\">\n",
       "  <thead>\n",
       "    <tr style=\"text-align: right;\">\n",
       "      <th></th>\n",
       "      <th>set_id</th>\n",
       "      <th>color_id</th>\n",
       "      <th>quantity</th>\n",
       "    </tr>\n",
       "  </thead>\n",
       "  <tbody>\n",
       "    <tr>\n",
       "      <th>0</th>\n",
       "      <td>pk1062</td>\n",
       "      <td>15</td>\n",
       "      <td>62.0</td>\n",
       "    </tr>\n",
       "    <tr>\n",
       "      <th>1</th>\n",
       "      <td>1062-1</td>\n",
       "      <td>15</td>\n",
       "      <td>62.0</td>\n",
       "    </tr>\n",
       "    <tr>\n",
       "      <th>2</th>\n",
       "      <td>1064-1</td>\n",
       "      <td>15</td>\n",
       "      <td>62.0</td>\n",
       "    </tr>\n",
       "    <tr>\n",
       "      <th>3</th>\n",
       "      <td>k1062b</td>\n",
       "      <td>15</td>\n",
       "      <td>62.0</td>\n",
       "    </tr>\n",
       "    <tr>\n",
       "      <th>4</th>\n",
       "      <td>10173-1</td>\n",
       "      <td>72</td>\n",
       "      <td>16.0</td>\n",
       "    </tr>\n",
       "  </tbody>\n",
       "</table>\n",
       "</div>"
      ],
      "text/plain": [
       "    set_id  color_id  quantity\n",
       "0   pk1062        15      62.0\n",
       "1   1062-1        15      62.0\n",
       "2   1064-1        15      62.0\n",
       "3   k1062b        15      62.0\n",
       "4  10173-1        72      16.0"
      ]
     },
     "execution_count": 18,
     "metadata": {},
     "output_type": "execute_result"
    }
   ],
   "source": [
    "# For a given part, the color which has the more quantity is the dominating color\n",
    "dom_colors = merged_sets.groupby(['set_id','color_id']).agg({'quantity' : 'sum'})\n",
    "\n",
    "# Getting the dominating colors, keeping the first occurence if there is an equality\n",
    "dom_colors = pd.DataFrame(dom_colors['quantity'].groupby(level=0, group_keys=False).nlargest(1).sort_values(ascending=False)).reset_index()\n",
    "\n",
    "# Check if there is no duplicated tuple made of (set_id,color_id):\n",
    "print(\"Is set_id <-> color_id unique?: \",dom_colors['set_id'].is_unique)\n",
    "print(\"Dominate color for each set:\")\n",
    "\n",
    "# Using head(5) to avoid printing too much....\n",
    "dom_colors.head(5)"
   ]
  },
  {
   "cell_type": "code",
   "execution_count": 19,
   "metadata": {},
   "outputs": [
    {
     "name": "stdout",
     "output_type": "stream",
     "text": [
      "Number of sets per dominant color:\n"
     ]
    },
    {
     "data": {
      "text/html": [
       "<div>\n",
       "<style scoped>\n",
       "    .dataframe tbody tr th:only-of-type {\n",
       "        vertical-align: middle;\n",
       "    }\n",
       "\n",
       "    .dataframe tbody tr th {\n",
       "        vertical-align: top;\n",
       "    }\n",
       "\n",
       "    .dataframe thead th {\n",
       "        text-align: right;\n",
       "    }\n",
       "</style>\n",
       "<table border=\"1\" class=\"dataframe\">\n",
       "  <thead>\n",
       "    <tr style=\"text-align: right;\">\n",
       "      <th></th>\n",
       "      <th>id</th>\n",
       "      <th>name</th>\n",
       "      <th>rgb</th>\n",
       "      <th>is_trans</th>\n",
       "      <th>frequency</th>\n",
       "    </tr>\n",
       "  </thead>\n",
       "  <tbody>\n",
       "    <tr>\n",
       "      <th>8</th>\n",
       "      <td>89</td>\n",
       "      <td>Royal Blue</td>\n",
       "      <td>4C61DB</td>\n",
       "      <td>f</td>\n",
       "      <td>41</td>\n",
       "    </tr>\n",
       "    <tr>\n",
       "      <th>10</th>\n",
       "      <td>9999</td>\n",
       "      <td>[No Color]</td>\n",
       "      <td>05131D</td>\n",
       "      <td>f</td>\n",
       "      <td>40</td>\n",
       "    </tr>\n",
       "    <tr>\n",
       "      <th>1</th>\n",
       "      <td>0</td>\n",
       "      <td>Black</td>\n",
       "      <td>05131D</td>\n",
       "      <td>f</td>\n",
       "      <td>36</td>\n",
       "    </tr>\n",
       "    <tr>\n",
       "      <th>0</th>\n",
       "      <td>-1</td>\n",
       "      <td>Unknown</td>\n",
       "      <td>0033B2</td>\n",
       "      <td>f</td>\n",
       "      <td>29</td>\n",
       "    </tr>\n",
       "    <tr>\n",
       "      <th>9</th>\n",
       "      <td>178</td>\n",
       "      <td>Flat Dark Gold</td>\n",
       "      <td>B48455</td>\n",
       "      <td>f</td>\n",
       "      <td>6</td>\n",
       "    </tr>\n",
       "    <tr>\n",
       "      <th>4</th>\n",
       "      <td>15</td>\n",
       "      <td>White</td>\n",
       "      <td>FFFFFF</td>\n",
       "      <td>f</td>\n",
       "      <td>5</td>\n",
       "    </tr>\n",
       "    <tr>\n",
       "      <th>2</th>\n",
       "      <td>2</td>\n",
       "      <td>Green</td>\n",
       "      <td>237841</td>\n",
       "      <td>f</td>\n",
       "      <td>4</td>\n",
       "    </tr>\n",
       "    <tr>\n",
       "      <th>5</th>\n",
       "      <td>71</td>\n",
       "      <td>Light Bluish Gray</td>\n",
       "      <td>A0A5A9</td>\n",
       "      <td>f</td>\n",
       "      <td>3</td>\n",
       "    </tr>\n",
       "    <tr>\n",
       "      <th>3</th>\n",
       "      <td>4</td>\n",
       "      <td>Red</td>\n",
       "      <td>C91A09</td>\n",
       "      <td>f</td>\n",
       "      <td>2</td>\n",
       "    </tr>\n",
       "    <tr>\n",
       "      <th>6</th>\n",
       "      <td>72</td>\n",
       "      <td>Dark Bluish Gray</td>\n",
       "      <td>6C6E68</td>\n",
       "      <td>f</td>\n",
       "      <td>2</td>\n",
       "    </tr>\n",
       "    <tr>\n",
       "      <th>7</th>\n",
       "      <td>82</td>\n",
       "      <td>Metallic Gold</td>\n",
       "      <td>DBAC34</td>\n",
       "      <td>f</td>\n",
       "      <td>1</td>\n",
       "    </tr>\n",
       "  </tbody>\n",
       "</table>\n",
       "</div>"
      ],
      "text/plain": [
       "      id               name     rgb is_trans  frequency\n",
       "8     89         Royal Blue  4C61DB        f         41\n",
       "10  9999         [No Color]  05131D        f         40\n",
       "1      0              Black  05131D        f         36\n",
       "0     -1            Unknown  0033B2        f         29\n",
       "9    178     Flat Dark Gold  B48455        f          6\n",
       "4     15              White  FFFFFF        f          5\n",
       "2      2              Green  237841        f          4\n",
       "5     71  Light Bluish Gray  A0A5A9        f          3\n",
       "3      4                Red  C91A09        f          2\n",
       "6     72   Dark Bluish Gray  6C6E68        f          2\n",
       "7     82      Metallic Gold  DBAC34        f          1"
      ]
     },
     "execution_count": 19,
     "metadata": {},
     "output_type": "execute_result"
    }
   ],
   "source": [
    "# Merging for the dominant color plot\n",
    "dom_colors_sort = dom_colors['color_id'].value_counts().to_frame('frequency').reset_index()\n",
    "dom_colors_sort = colors.merge(dom_colors_sort, left_on='id', right_on='index').sort_values('frequency',ascending=False).drop(columns=['index'])\n",
    "print(\"Number of sets per dominant color:\")\n",
    "dom_colors_sort"
   ]
  },
  {
   "cell_type": "code",
   "execution_count": 20,
   "metadata": {},
   "outputs": [
    {
     "data": {
      "image/png": "[encoded data removed]",
      "text/plain": [
       "<Figure size 720x504 with 1 Axes>"
      ]
     },
     "metadata": {},
     "output_type": "display_data"
    }
   ],
   "source": [
    "# * Plotting *\n",
    "plt.barh(dom_colors_sort.name, dom_colors_sort.frequency, color=('#'+dom_colors_sort.rgb),edgecolor='black')\n",
    "plt.xlabel(\"Number of sets\")\n",
    "plt.title('Color Frequency')\n",
    "plt.show()"
   ]
  },
  {
   "cell_type": "markdown",
   "metadata": {},
   "source": [
    "**4. Create a scatter plot of the *luminance* of the sets vs their publishing year. What do you observe for the years 1980-1981? How do you interpret what you see?**\n",
    "\n",
    "\\*The luminance of a color is a [measure of brightness](https://en.wikipedia.org/wiki/Luminance) which, given its RGB representation, can be computed as follows:\n",
    "\n",
    "$luminance = \\sqrt{0.299*R^2 + 0.587*G^2 + 0.114*B^2}$"
   ]
  },
  {
   "cell_type": "code",
   "execution_count": 21,
   "metadata": {},
   "outputs": [
    {
     "name": "stdout",
     "output_type": "stream",
     "text": [
      "(11673, 5)\n",
      "(2846, 3)\n",
      "(2846, 4)\n"
     ]
    }
   ],
   "source": [
    "# Merging following tables to link year <-> colors : sets -> inventory_sets -> inventory_parts -> colors\n",
    "plot_luminance = sets_cleaned[['id','year']].merge(inventory_sets[['set_id','inventory_id']] , left_on='id', right_on='set_id')\n",
    "\n",
    "print(sets_cleaned.shape)\n",
    "print(inventory_sets.shape)\n",
    "print(plot_luminance.shape)"
   ]
  },
  {
   "cell_type": "code",
   "execution_count": 22,
   "metadata": {},
   "outputs": [
    {
     "name": "stdout",
     "output_type": "stream",
     "text": [
      "(552927, 4)\n",
      "(432, 4)\n"
     ]
    },
    {
     "data": {
      "text/html": [
       "<div>\n",
       "<style scoped>\n",
       "    .dataframe tbody tr th:only-of-type {\n",
       "        vertical-align: middle;\n",
       "    }\n",
       "\n",
       "    .dataframe tbody tr th {\n",
       "        vertical-align: top;\n",
       "    }\n",
       "\n",
       "    .dataframe thead th {\n",
       "        text-align: right;\n",
       "    }\n",
       "</style>\n",
       "<table border=\"1\" class=\"dataframe\">\n",
       "  <thead>\n",
       "    <tr style=\"text-align: right;\">\n",
       "      <th></th>\n",
       "      <th>set_id</th>\n",
       "      <th>year</th>\n",
       "      <th>R</th>\n",
       "      <th>G</th>\n",
       "      <th>B</th>\n",
       "      <th>lum</th>\n",
       "    </tr>\n",
       "  </thead>\n",
       "  <tbody>\n",
       "    <tr>\n",
       "      <th>220</th>\n",
       "      <td>k1062b</td>\n",
       "      <td>1981.0</td>\n",
       "      <td>255</td>\n",
       "      <td>255</td>\n",
       "      <td>255</td>\n",
       "      <td>255.000000</td>\n",
       "    </tr>\n",
       "    <tr>\n",
       "      <th>140</th>\n",
       "      <td>7907-5</td>\n",
       "      <td>2007.0</td>\n",
       "      <td>5</td>\n",
       "      <td>19</td>\n",
       "      <td>29</td>\n",
       "      <td>17.755450</td>\n",
       "    </tr>\n",
       "    <tr>\n",
       "      <th>69</th>\n",
       "      <td>9700-1</td>\n",
       "      <td>1987.0</td>\n",
       "      <td>5</td>\n",
       "      <td>19</td>\n",
       "      <td>29</td>\n",
       "      <td>17.755450</td>\n",
       "    </tr>\n",
       "    <tr>\n",
       "      <th>163</th>\n",
       "      <td>7907-15</td>\n",
       "      <td>2007.0</td>\n",
       "      <td>0</td>\n",
       "      <td>85</td>\n",
       "      <td>191</td>\n",
       "      <td>91.651017</td>\n",
       "    </tr>\n",
       "    <tr>\n",
       "      <th>84</th>\n",
       "      <td>9750-1</td>\n",
       "      <td>1986.0</td>\n",
       "      <td>5</td>\n",
       "      <td>19</td>\n",
       "      <td>29</td>\n",
       "      <td>17.755450</td>\n",
       "    </tr>\n",
       "    <tr>\n",
       "      <th>336</th>\n",
       "      <td>4346-1</td>\n",
       "      <td>2004.0</td>\n",
       "      <td>0</td>\n",
       "      <td>51</td>\n",
       "      <td>178</td>\n",
       "      <td>71.685166</td>\n",
       "    </tr>\n",
       "    <tr>\n",
       "      <th>57</th>\n",
       "      <td>8772-1</td>\n",
       "      <td>2004.0</td>\n",
       "      <td>5</td>\n",
       "      <td>19</td>\n",
       "      <td>29</td>\n",
       "      <td>17.755450</td>\n",
       "    </tr>\n",
       "    <tr>\n",
       "      <th>175</th>\n",
       "      <td>7907-3</td>\n",
       "      <td>2007.0</td>\n",
       "      <td>0</td>\n",
       "      <td>85</td>\n",
       "      <td>191</td>\n",
       "      <td>91.651017</td>\n",
       "    </tr>\n",
       "    <tr>\n",
       "      <th>381</th>\n",
       "      <td>7907-21</td>\n",
       "      <td>2007.0</td>\n",
       "      <td>242</td>\n",
       "      <td>205</td>\n",
       "      <td>55</td>\n",
       "      <td>206.213872</td>\n",
       "    </tr>\n",
       "    <tr>\n",
       "      <th>267</th>\n",
       "      <td>1062-1</td>\n",
       "      <td>NaN</td>\n",
       "      <td>155</td>\n",
       "      <td>161</td>\n",
       "      <td>157</td>\n",
       "      <td>158.773701</td>\n",
       "    </tr>\n",
       "  </tbody>\n",
       "</table>\n",
       "</div>"
      ],
      "text/plain": [
       "      set_id    year    R    G    B         lum\n",
       "220   k1062b  1981.0  255  255  255  255.000000\n",
       "140   7907-5  2007.0    5   19   29   17.755450\n",
       "69    9700-1  1987.0    5   19   29   17.755450\n",
       "163  7907-15  2007.0    0   85  191   91.651017\n",
       "84    9750-1  1986.0    5   19   29   17.755450\n",
       "336   4346-1  2004.0    0   51  178   71.685166\n",
       "57    8772-1  2004.0    5   19   29   17.755450\n",
       "175   7907-3  2007.0    0   85  191   91.651017\n",
       "381  7907-21  2007.0  242  205   55  206.213872\n",
       "267   1062-1     NaN  155  161  157  158.773701"
      ]
     },
     "execution_count": 22,
     "metadata": {},
     "output_type": "execute_result"
    }
   ],
   "source": [
    "plot_luminance = plot_luminance[['year','set_id','inventory_id']].merge(new_pinventory[['inventory_id','color_id']], left_on='inventory_id', right_on='inventory_id')\n",
    "print(new_pinventory.shape)\n",
    "print(plot_luminance.shape)\n",
    "plot_luminance = plot_luminance.merge(colors[['id','name','rgb']],left_on='color_id', right_on='id')\n",
    "\n",
    "# Keeping only the relevant columns\n",
    "plot_luminance = plot_luminance[['set_id','rgb','year']]\n",
    "\n",
    "# Splitting the RGB columns into 3 distinct columns to manipulate R,G,B \n",
    "plot_luminance['R'] = plot_luminance.rgb.apply(lambda x: int(x[0:2],16))\n",
    "plot_luminance['G'] = plot_luminance.rgb.apply(lambda x: int(x[2:4],16))\n",
    "plot_luminance['B'] = plot_luminance.rgb.apply(lambda x: int(x[4:6],16))\n",
    "\n",
    "plot_luminance.drop(columns='rgb',inplace=True)\n",
    "\n",
    "# Computing the luminance and adding to a new column\n",
    "plot_luminance['lum'] = np.sqrt(0.299*np.power(plot_luminance.R,2)+0.587*np.power(plot_luminance.G,2)+0.114*np.power(plot_luminance.B,2) )\n",
    "\n",
    "# Check\n",
    "plot_luminance.sample(10)"
   ]
  },
  {
   "cell_type": "code",
   "execution_count": 23,
   "metadata": {},
   "outputs": [
    {
     "data": {
      "image/png": "[encoded data removed]",
      "text/plain": [
       "<Figure size 720x504 with 1 Axes>"
      ]
     },
     "metadata": {},
     "output_type": "display_data"
    }
   ],
   "source": [
    "# * Plotting *\n",
    "plt.scatter(plot_luminance.year, plot_luminance.lum)\n",
    "plt.xlabel(\"Years\")\n",
    "plt.ylabel(\"Luminance [cd/m$^2$]\")\n",
    "plt.title('Luminance vs Years')\n",
    "plt.show()"
   ]
  },
  {
   "cell_type": "markdown",
   "metadata": {},
   "source": [
    "For the years *1980-1981* it appears that the contrast for differents sets has improved. They must have decided to diversify their products colors.\n",
    "\n",
    "Remark: When merging, if an `id` doesn't exist in both `DataFrames`, the corresponding line is dropped, thus we have some missing years because of missing `set_id` in the the `inventory_set` `DataFrame`. The same effect appears between `inventory_set` and `inventory_parts`"
   ]
  },
  {
   "cell_type": "markdown",
   "metadata": {},
   "source": [
    "## Task B. Drop the bike\n",
    "\n",
    "*Los Angeles Metro* has been sharing publicly [anonymized *Metro Bike Share* trip data](https://bikeshare.metro.net/about/data/) under the [Open Database License (ODbL)](http://opendatacommons.org/licenses/odbl/1.0/).\n",
    "\n",
    "In this task you will again perform data wrangling and interpretation."
   ]
  },
  {
   "cell_type": "markdown",
   "metadata": {},
   "source": [
    "### B1. Loading phase\n",
    "Load the json file into a `DataFrame`.\n"
   ]
  },
  {
   "cell_type": "code",
   "execution_count": 24,
   "metadata": {},
   "outputs": [],
   "source": [
    "BIKES_DATA_FOLDER = DATA_FOLDER + '/bikes/'"
   ]
  },
  {
   "cell_type": "code",
   "execution_count": 25,
   "metadata": {},
   "outputs": [],
   "source": [
    "# Write your code here\n",
    "bike_data = pd.read_json(BIKES_DATA_FOLDER+'metro-bike-share-trip-data.json.zip')\n"
   ]
  },
  {
   "cell_type": "markdown",
   "metadata": {},
   "source": [
    "### B2. Cleaning phase\n",
    "Describe the type and the value range of each attribute. Indicate and transform the attributes that are `Categorical`. Are there redundant columns in the dataset (i.e., are there columns whose value depends only on the value of another column)? What are the possible pitfalls of having such columns? Reduce *data redundancy* by extracting such columns to separate `DataFrames`. Which of the two formats (the initial one or the one with reduced data redundancy) is more susceptible to inconsistencies? At the end print for each `Dataframe` the *type of each column* and it's *shape*."
   ]
  },
  {
   "cell_type": "code",
   "execution_count": 26,
   "metadata": {},
   "outputs": [
    {
     "data": {
      "text/html": [
       "<div>\n",
       "<style scoped>\n",
       "    .dataframe tbody tr th:only-of-type {\n",
       "        vertical-align: middle;\n",
       "    }\n",
       "\n",
       "    .dataframe tbody tr th {\n",
       "        vertical-align: top;\n",
       "    }\n",
       "\n",
       "    .dataframe thead th {\n",
       "        text-align: right;\n",
       "    }\n",
       "</style>\n",
       "<table border=\"1\" class=\"dataframe\">\n",
       "  <thead>\n",
       "    <tr style=\"text-align: right;\">\n",
       "      <th></th>\n",
       "      <th>Bike ID</th>\n",
       "      <th>Duration</th>\n",
       "      <th>End Time</th>\n",
       "      <th>Ending Station ID</th>\n",
       "      <th>Ending Station Latitude</th>\n",
       "      <th>Ending Station Longitude</th>\n",
       "      <th>Passholder Type</th>\n",
       "      <th>Plan Duration</th>\n",
       "      <th>Start Time</th>\n",
       "      <th>Starting Station ID</th>\n",
       "      <th>Starting Station Latitude</th>\n",
       "      <th>Starting Station Longitude</th>\n",
       "      <th>Trip ID</th>\n",
       "      <th>Trip Route Category</th>\n",
       "    </tr>\n",
       "  </thead>\n",
       "  <tbody>\n",
       "    <tr>\n",
       "      <th>40035</th>\n",
       "      <td>6552.0</td>\n",
       "      <td>420</td>\n",
       "      <td>2016-09-07T12:37:00</td>\n",
       "      <td>3064.0</td>\n",
       "      <td>34.046810</td>\n",
       "      <td>-118.256980</td>\n",
       "      <td>Walk-up</td>\n",
       "      <td>0.0</td>\n",
       "      <td>2016-09-07T12:30:00</td>\n",
       "      <td>3034.0</td>\n",
       "      <td>34.042061</td>\n",
       "      <td>-118.263380</td>\n",
       "      <td>5350259</td>\n",
       "      <td>One Way</td>\n",
       "    </tr>\n",
       "    <tr>\n",
       "      <th>106904</th>\n",
       "      <td>6198.0</td>\n",
       "      <td>420</td>\n",
       "      <td>2017-01-27T14:01:00</td>\n",
       "      <td>3077.0</td>\n",
       "      <td>34.039871</td>\n",
       "      <td>-118.250038</td>\n",
       "      <td>Monthly Pass</td>\n",
       "      <td>30.0</td>\n",
       "      <td>2017-01-27T13:54:00</td>\n",
       "      <td>3074.0</td>\n",
       "      <td>34.044170</td>\n",
       "      <td>-118.261169</td>\n",
       "      <td>18715403</td>\n",
       "      <td>One Way</td>\n",
       "    </tr>\n",
       "    <tr>\n",
       "      <th>92977</th>\n",
       "      <td>5802.0</td>\n",
       "      <td>300</td>\n",
       "      <td>2016-12-13T07:11:00</td>\n",
       "      <td>3014.0</td>\n",
       "      <td>34.056610</td>\n",
       "      <td>-118.237213</td>\n",
       "      <td>Monthly Pass</td>\n",
       "      <td>30.0</td>\n",
       "      <td>2016-12-13T07:06:00</td>\n",
       "      <td>3030.0</td>\n",
       "      <td>34.051941</td>\n",
       "      <td>-118.243530</td>\n",
       "      <td>15855516</td>\n",
       "      <td>One Way</td>\n",
       "    </tr>\n",
       "    <tr>\n",
       "      <th>67138</th>\n",
       "      <td>6294.0</td>\n",
       "      <td>480</td>\n",
       "      <td>2016-10-19T17:34:00</td>\n",
       "      <td>3074.0</td>\n",
       "      <td>34.044170</td>\n",
       "      <td>-118.261169</td>\n",
       "      <td>Monthly Pass</td>\n",
       "      <td>30.0</td>\n",
       "      <td>2016-10-19T17:26:00</td>\n",
       "      <td>3024.0</td>\n",
       "      <td>34.057720</td>\n",
       "      <td>-118.248970</td>\n",
       "      <td>10621323</td>\n",
       "      <td>One Way</td>\n",
       "    </tr>\n",
       "    <tr>\n",
       "      <th>126496</th>\n",
       "      <td>5771.0</td>\n",
       "      <td>240</td>\n",
       "      <td>2017-03-19T01:00:00</td>\n",
       "      <td>3037.0</td>\n",
       "      <td>34.034801</td>\n",
       "      <td>-118.231277</td>\n",
       "      <td>Flex Pass</td>\n",
       "      <td>365.0</td>\n",
       "      <td>2017-03-19T00:56:00</td>\n",
       "      <td>3048.0</td>\n",
       "      <td>34.041691</td>\n",
       "      <td>-118.235352</td>\n",
       "      <td>22538474</td>\n",
       "      <td>One Way</td>\n",
       "    </tr>\n",
       "  </tbody>\n",
       "</table>\n",
       "</div>"
      ],
      "text/plain": [
       "        Bike ID  Duration             End Time  Ending Station ID  \\\n",
       "40035    6552.0       420  2016-09-07T12:37:00             3064.0   \n",
       "106904   6198.0       420  2017-01-27T14:01:00             3077.0   \n",
       "92977    5802.0       300  2016-12-13T07:11:00             3014.0   \n",
       "67138    6294.0       480  2016-10-19T17:34:00             3074.0   \n",
       "126496   5771.0       240  2017-03-19T01:00:00             3037.0   \n",
       "\n",
       "        Ending Station Latitude  Ending Station Longitude Passholder Type  \\\n",
       "40035                 34.046810               -118.256980         Walk-up   \n",
       "106904                34.039871               -118.250038    Monthly Pass   \n",
       "92977                 34.056610               -118.237213    Monthly Pass   \n",
       "67138                 34.044170               -118.261169    Monthly Pass   \n",
       "126496                34.034801               -118.231277       Flex Pass   \n",
       "\n",
       "        Plan Duration           Start Time  Starting Station ID  \\\n",
       "40035             0.0  2016-09-07T12:30:00               3034.0   \n",
       "106904           30.0  2017-01-27T13:54:00               3074.0   \n",
       "92977            30.0  2016-12-13T07:06:00               3030.0   \n",
       "67138            30.0  2016-10-19T17:26:00               3024.0   \n",
       "126496          365.0  2017-03-19T00:56:00               3048.0   \n",
       "\n",
       "        Starting Station Latitude  Starting Station Longitude   Trip ID  \\\n",
       "40035                   34.042061                 -118.263380   5350259   \n",
       "106904                  34.044170                 -118.261169  18715403   \n",
       "92977                   34.051941                 -118.243530  15855516   \n",
       "67138                   34.057720                 -118.248970  10621323   \n",
       "126496                  34.041691                 -118.235352  22538474   \n",
       "\n",
       "       Trip Route Category  \n",
       "40035              One Way  \n",
       "106904             One Way  \n",
       "92977              One Way  \n",
       "67138              One Way  \n",
       "126496             One Way  "
      ]
     },
     "execution_count": 26,
     "metadata": {},
     "output_type": "execute_result"
    }
   ],
   "source": [
    "# A quick view at the Dataset\n",
    "bike_data.sample(5)"
   ]
  },
  {
   "cell_type": "code",
   "execution_count": 27,
   "metadata": {},
   "outputs": [
    {
     "name": "stdout",
     "output_type": "stream",
     "text": [
      "\u001b[1mDescriptions of the dataset:\u001b[0;0m\n",
      "\u001b[1m Bike ID \u001b[0;0m: type is float64 and range: 1349.0 : 6728.0\n",
      "\u001b[1m Duration \u001b[0;0m: type is int64 and range: 60 : 86400\n",
      "\u001b[1m End Time \u001b[0;0m: type is object and range: 2016-07-07T04:20:00 : 2017-04-02T10:32:00\n",
      "\u001b[1m Ending Station ID \u001b[0;0m: type is float64 and range: 3000.0 : 4108.0\n",
      "\u001b[1m Ending Station Latitude \u001b[0;0m: type is float64 and range: 0.0 : 34.0642815\n",
      "\u001b[1m Ending Station Longitude \u001b[0;0m: type is float64 and range: -118.472832 : 0.0\n",
      "\u001b[1m Passholder Type \u001b[0;0m: type is object and range: Flex Pass : Walk-up\n",
      "\u001b[1m Plan Duration \u001b[0;0m: type is float64 and range: 0.0 : 365.0\n",
      "\u001b[1m Start Time \u001b[0;0m: type is object and range: 2016-07-07T04:17:00 : 2017-03-31T23:45:00\n",
      "\u001b[1m Starting Station ID \u001b[0;0m: type is float64 and range: 3000.0 : 4108.0\n",
      "\u001b[1m Starting Station Latitude \u001b[0;0m: type is float64 and range: 0.0 : 34.0642815\n",
      "\u001b[1m Starting Station Longitude \u001b[0;0m: type is float64 and range: -118.472832 : 0.0\n",
      "\u001b[1m Trip ID \u001b[0;0m: type is int64 and range: 1912818 : 23794218\n",
      "\u001b[1m Trip Route Category \u001b[0;0m: type is object and range: One Way : Round Trip\n"
     ]
    }
   ],
   "source": [
    "##### We are asked to describe the dataset\n",
    "print(\"\\033[1mDescriptions of the dataset:\\033[0;0m\")\n",
    "for k in bike_data.columns:\n",
    "    print(\"\\033[1m\",k, \"\\033[0;0m: type is\", bike_data[k].dtype, \"and range:\",  bike_data[k].min() ,\":\", bike_data[k].max())"
   ]
  },
  {
   "cell_type": "markdown",
   "metadata": {},
   "source": [
    "##### The following data are redundant:\n",
    "- [Start Time, End Time] -> [Duration]\n",
    "- [Starting Station, Ending Station] -> [Trip Route Category]\n",
    "- [Plan Duration] -> [Passholer Type]\n",
    "\n",
    "##### Redundancy in the dataset can create inconsistencies, for example:  \n",
    "Start Time: 2016-11-08T17:03:30  \n",
    "End Time: 2016-11-08T17:05:00   \n",
    "Duration: 120  \n",
    "\n",
    "Duration would normally be 90 but we cannot know which information is the correct right.\n",
    "\n",
    "Each station ID has normally a unique longitude and latitude we can group them togethere to reduce redundancy  \n",
    "Thus we can create those datasets instead to reduce redundancy and inconsistencies from the initial set:\n",
    "- [Bike ID, End Time, Start Time, Ending Station ID, Starting Station ID, Passholder Type, Trip ID]\n",
    "- [Station ID, Station Longitude, Station Latitude]\n",
    "- [Passholder Type, Plan Duration]"
   ]
  },
  {
   "cell_type": "code",
   "execution_count": 28,
   "metadata": {},
   "outputs": [
    {
     "data": {
      "text/html": [
       "<div>\n",
       "<style scoped>\n",
       "    .dataframe tbody tr th:only-of-type {\n",
       "        vertical-align: middle;\n",
       "    }\n",
       "\n",
       "    .dataframe tbody tr th {\n",
       "        vertical-align: top;\n",
       "    }\n",
       "\n",
       "    .dataframe thead th {\n",
       "        text-align: right;\n",
       "    }\n",
       "</style>\n",
       "<table border=\"1\" class=\"dataframe\">\n",
       "  <thead>\n",
       "    <tr style=\"text-align: right;\">\n",
       "      <th></th>\n",
       "      <th>Station Longitude</th>\n",
       "      <th>Station Latitude</th>\n",
       "    </tr>\n",
       "    <tr>\n",
       "      <th>Station ID</th>\n",
       "      <th></th>\n",
       "      <th></th>\n",
       "    </tr>\n",
       "  </thead>\n",
       "  <tbody>\n",
       "    <tr>\n",
       "      <th>3067.0</th>\n",
       "      <td>-118.250238</td>\n",
       "      <td>34.045181</td>\n",
       "    </tr>\n",
       "    <tr>\n",
       "      <th>3027.0</th>\n",
       "      <td>-118.247161</td>\n",
       "      <td>34.049980</td>\n",
       "    </tr>\n",
       "    <tr>\n",
       "      <th>3032.0</th>\n",
       "      <td>-118.255881</td>\n",
       "      <td>34.049889</td>\n",
       "    </tr>\n",
       "    <tr>\n",
       "      <th>3056.0</th>\n",
       "      <td>-118.265380</td>\n",
       "      <td>34.037460</td>\n",
       "    </tr>\n",
       "    <tr>\n",
       "      <th>3008.0</th>\n",
       "      <td>-118.262732</td>\n",
       "      <td>34.046612</td>\n",
       "    </tr>\n",
       "    <tr>\n",
       "      <th>3022.0</th>\n",
       "      <td>-118.233092</td>\n",
       "      <td>34.046070</td>\n",
       "    </tr>\n",
       "    <tr>\n",
       "      <th>3030.0</th>\n",
       "      <td>-118.243530</td>\n",
       "      <td>34.051941</td>\n",
       "    </tr>\n",
       "    <tr>\n",
       "      <th>3059.0</th>\n",
       "      <td>-118.256270</td>\n",
       "      <td>34.037949</td>\n",
       "    </tr>\n",
       "    <tr>\n",
       "      <th>3052.0</th>\n",
       "      <td>-118.264558</td>\n",
       "      <td>34.051102</td>\n",
       "    </tr>\n",
       "    <tr>\n",
       "      <th>3009.0</th>\n",
       "      <td>-118.472832</td>\n",
       "      <td>33.987381</td>\n",
       "    </tr>\n",
       "  </tbody>\n",
       "</table>\n",
       "</div>"
      ],
      "text/plain": [
       "            Station Longitude  Station Latitude\n",
       "Station ID                                     \n",
       "3067.0            -118.250238         34.045181\n",
       "3027.0            -118.247161         34.049980\n",
       "3032.0            -118.255881         34.049889\n",
       "3056.0            -118.265380         34.037460\n",
       "3008.0            -118.262732         34.046612\n",
       "3022.0            -118.233092         34.046070\n",
       "3030.0            -118.243530         34.051941\n",
       "3059.0            -118.256270         34.037949\n",
       "3052.0            -118.264558         34.051102\n",
       "3009.0            -118.472832         33.987381"
      ]
     },
     "execution_count": 28,
     "metadata": {},
     "output_type": "execute_result"
    }
   ],
   "source": [
    "# Creating the DataFrame made of: [Station ID, Station Longitude, Station Latitude]\n",
    "stations_start = bike_data[['Starting Station ID', 'Starting Station Longitude', 'Starting Station Latitude']].drop_duplicates()\n",
    "stations_end = bike_data[['Ending Station ID', 'Ending Station Longitude', 'Ending Station Latitude']].drop_duplicates()\n",
    "\n",
    "# Taking median values to limit the influence of outliers\n",
    "stations_start_mean = stations_start.groupby('Starting Station ID').median()\n",
    "stations_end_mean = stations_end.groupby('Ending Station ID').median()\n",
    "\n",
    "# Merging Start and Ending Stations coordinates to form the final DataFrame\n",
    "stations = stations_end_mean.join(stations_start_mean)[['Ending Station Longitude', 'Ending Station Latitude']]\n",
    "stations.columns = [ 'Station Longitude', 'Station Latitude']\n",
    "stations.index.name = 'Station ID'\n",
    "\n",
    "stations.sample(10)"
   ]
  },
  {
   "cell_type": "code",
   "execution_count": 29,
   "metadata": {},
   "outputs": [
    {
     "data": {
      "text/html": [
       "<div>\n",
       "<style scoped>\n",
       "    .dataframe tbody tr th:only-of-type {\n",
       "        vertical-align: middle;\n",
       "    }\n",
       "\n",
       "    .dataframe tbody tr th {\n",
       "        vertical-align: top;\n",
       "    }\n",
       "\n",
       "    .dataframe thead th {\n",
       "        text-align: right;\n",
       "    }\n",
       "</style>\n",
       "<table border=\"1\" class=\"dataframe\">\n",
       "  <thead>\n",
       "    <tr style=\"text-align: right;\">\n",
       "      <th></th>\n",
       "      <th>Passholder Type</th>\n",
       "      <th>Plan Duration</th>\n",
       "    </tr>\n",
       "  </thead>\n",
       "  <tbody>\n",
       "    <tr>\n",
       "      <th>0</th>\n",
       "      <td>Monthly Pass</td>\n",
       "      <td>30.0</td>\n",
       "    </tr>\n",
       "    <tr>\n",
       "      <th>1</th>\n",
       "      <td>Flex Pass</td>\n",
       "      <td>365.0</td>\n",
       "    </tr>\n",
       "    <tr>\n",
       "      <th>2</th>\n",
       "      <td>Walk-up</td>\n",
       "      <td>0.0</td>\n",
       "    </tr>\n",
       "    <tr>\n",
       "      <th>3</th>\n",
       "      <td>Staff Annual</td>\n",
       "      <td>NaN</td>\n",
       "    </tr>\n",
       "    <tr>\n",
       "      <th>4</th>\n",
       "      <td>Monthly Pass</td>\n",
       "      <td>NaN</td>\n",
       "    </tr>\n",
       "  </tbody>\n",
       "</table>\n",
       "</div>"
      ],
      "text/plain": [
       "  Passholder Type  Plan Duration\n",
       "0    Monthly Pass           30.0\n",
       "1       Flex Pass          365.0\n",
       "2         Walk-up            0.0\n",
       "3    Staff Annual            NaN\n",
       "4    Monthly Pass            NaN"
      ]
     },
     "execution_count": 29,
     "metadata": {},
     "output_type": "execute_result"
    }
   ],
   "source": [
    "# DF made of: [Passholder Type, Plan Duration]\n",
    "pass_duration = bike_data[['Passholder Type', 'Plan Duration']].drop_duplicates()\n",
    "pass_duration = pass_duration.reset_index(drop=True)\n",
    "pass_duration"
   ]
  },
  {
   "cell_type": "code",
   "execution_count": 30,
   "metadata": {},
   "outputs": [
    {
     "data": {
      "text/html": [
       "<div>\n",
       "<style scoped>\n",
       "    .dataframe tbody tr th:only-of-type {\n",
       "        vertical-align: middle;\n",
       "    }\n",
       "\n",
       "    .dataframe tbody tr th {\n",
       "        vertical-align: top;\n",
       "    }\n",
       "\n",
       "    .dataframe thead th {\n",
       "        text-align: right;\n",
       "    }\n",
       "</style>\n",
       "<table border=\"1\" class=\"dataframe\">\n",
       "  <thead>\n",
       "    <tr style=\"text-align: right;\">\n",
       "      <th></th>\n",
       "      <th>Bike ID</th>\n",
       "      <th>End Time</th>\n",
       "      <th>Start Time</th>\n",
       "      <th>Ending Station ID</th>\n",
       "      <th>Starting Station ID</th>\n",
       "      <th>Passholder Type</th>\n",
       "      <th>Trip ID</th>\n",
       "    </tr>\n",
       "  </thead>\n",
       "  <tbody>\n",
       "    <tr>\n",
       "      <th>0</th>\n",
       "      <td>6281.0</td>\n",
       "      <td>2016-07-07T04:20:00</td>\n",
       "      <td>2016-07-07T04:17:00</td>\n",
       "      <td>3014.0</td>\n",
       "      <td>3014.0</td>\n",
       "      <td>Monthly Pass</td>\n",
       "      <td>1912818</td>\n",
       "    </tr>\n",
       "    <tr>\n",
       "      <th>1</th>\n",
       "      <td>6281.0</td>\n",
       "      <td>2016-07-07T06:33:00</td>\n",
       "      <td>2016-07-07T06:00:00</td>\n",
       "      <td>3014.0</td>\n",
       "      <td>3014.0</td>\n",
       "      <td>Monthly Pass</td>\n",
       "      <td>1919661</td>\n",
       "    </tr>\n",
       "    <tr>\n",
       "      <th>2</th>\n",
       "      <td>5861.0</td>\n",
       "      <td>2016-07-07T10:37:00</td>\n",
       "      <td>2016-07-07T10:32:00</td>\n",
       "      <td>3016.0</td>\n",
       "      <td>3016.0</td>\n",
       "      <td>Flex Pass</td>\n",
       "      <td>1933383</td>\n",
       "    </tr>\n",
       "    <tr>\n",
       "      <th>3</th>\n",
       "      <td>5861.0</td>\n",
       "      <td>2016-07-07T13:38:00</td>\n",
       "      <td>2016-07-07T10:37:00</td>\n",
       "      <td>3016.0</td>\n",
       "      <td>3016.0</td>\n",
       "      <td>Flex Pass</td>\n",
       "      <td>1944197</td>\n",
       "    </tr>\n",
       "    <tr>\n",
       "      <th>4</th>\n",
       "      <td>6674.0</td>\n",
       "      <td>2016-07-07T12:58:00</td>\n",
       "      <td>2016-07-07T12:51:00</td>\n",
       "      <td>3032.0</td>\n",
       "      <td>3032.0</td>\n",
       "      <td>Walk-up</td>\n",
       "      <td>1940317</td>\n",
       "    </tr>\n",
       "    <tr>\n",
       "      <th>5</th>\n",
       "      <td>6717.0</td>\n",
       "      <td>2016-07-07T13:04:00</td>\n",
       "      <td>2016-07-07T12:51:00</td>\n",
       "      <td>3054.0</td>\n",
       "      <td>3021.0</td>\n",
       "      <td>Monthly Pass</td>\n",
       "      <td>1944075</td>\n",
       "    </tr>\n",
       "    <tr>\n",
       "      <th>6</th>\n",
       "      <td>5721.0</td>\n",
       "      <td>2016-07-07T13:04:00</td>\n",
       "      <td>2016-07-07T12:54:00</td>\n",
       "      <td>3014.0</td>\n",
       "      <td>3022.0</td>\n",
       "      <td>Monthly Pass</td>\n",
       "      <td>1944073</td>\n",
       "    </tr>\n",
       "    <tr>\n",
       "      <th>7</th>\n",
       "      <td>5957.0</td>\n",
       "      <td>2016-07-07T13:09:00</td>\n",
       "      <td>2016-07-07T12:59:00</td>\n",
       "      <td>3005.0</td>\n",
       "      <td>3076.0</td>\n",
       "      <td>Flex Pass</td>\n",
       "      <td>1944067</td>\n",
       "    </tr>\n",
       "    <tr>\n",
       "      <th>8</th>\n",
       "      <td>6137.0</td>\n",
       "      <td>2016-07-07T13:49:00</td>\n",
       "      <td>2016-07-07T13:01:00</td>\n",
       "      <td>3031.0</td>\n",
       "      <td>3031.0</td>\n",
       "      <td>Flex Pass</td>\n",
       "      <td>1944062</td>\n",
       "    </tr>\n",
       "    <tr>\n",
       "      <th>9</th>\n",
       "      <td>6351.0</td>\n",
       "      <td>2016-07-07T13:17:00</td>\n",
       "      <td>2016-07-07T13:01:00</td>\n",
       "      <td>3078.0</td>\n",
       "      <td>3031.0</td>\n",
       "      <td>Monthly Pass</td>\n",
       "      <td>1944063</td>\n",
       "    </tr>\n",
       "  </tbody>\n",
       "</table>\n",
       "</div>"
      ],
      "text/plain": [
       "   Bike ID             End Time           Start Time  Ending Station ID  \\\n",
       "0   6281.0  2016-07-07T04:20:00  2016-07-07T04:17:00             3014.0   \n",
       "1   6281.0  2016-07-07T06:33:00  2016-07-07T06:00:00             3014.0   \n",
       "2   5861.0  2016-07-07T10:37:00  2016-07-07T10:32:00             3016.0   \n",
       "3   5861.0  2016-07-07T13:38:00  2016-07-07T10:37:00             3016.0   \n",
       "4   6674.0  2016-07-07T12:58:00  2016-07-07T12:51:00             3032.0   \n",
       "5   6717.0  2016-07-07T13:04:00  2016-07-07T12:51:00             3054.0   \n",
       "6   5721.0  2016-07-07T13:04:00  2016-07-07T12:54:00             3014.0   \n",
       "7   5957.0  2016-07-07T13:09:00  2016-07-07T12:59:00             3005.0   \n",
       "8   6137.0  2016-07-07T13:49:00  2016-07-07T13:01:00             3031.0   \n",
       "9   6351.0  2016-07-07T13:17:00  2016-07-07T13:01:00             3078.0   \n",
       "\n",
       "   Starting Station ID Passholder Type  Trip ID  \n",
       "0               3014.0    Monthly Pass  1912818  \n",
       "1               3014.0    Monthly Pass  1919661  \n",
       "2               3016.0       Flex Pass  1933383  \n",
       "3               3016.0       Flex Pass  1944197  \n",
       "4               3032.0         Walk-up  1940317  \n",
       "5               3021.0    Monthly Pass  1944075  \n",
       "6               3022.0    Monthly Pass  1944073  \n",
       "7               3076.0       Flex Pass  1944067  \n",
       "8               3031.0       Flex Pass  1944062  \n",
       "9               3031.0    Monthly Pass  1944063  "
      ]
     },
     "execution_count": 30,
     "metadata": {},
     "output_type": "execute_result"
    }
   ],
   "source": [
    "# DF made of: [Bike ID, End Time, Start Time, Ending Station ID, Starting Station ID, Passholder Type, Trip ID]\n",
    "df_reduced = bike_data[['Bike ID', 'End Time', 'Start Time', 'Ending Station ID', 'Starting Station ID', 'Passholder Type', 'Trip ID']]#.drop_duplicates()\n",
    "df_reduced.head(10)"
   ]
  },
  {
   "cell_type": "markdown",
   "metadata": {},
   "source": [
    "### B3. Querying phase\n",
    "Answer the following queries using the functionality of `Pandas`.\n",
    "\n",
    "1. Plot the *distribution* of the number of outgoing trips from each station in a histogram with 20 bins (Hint: each bin describes a range of counts, not stations).\n",
    "* Plot histograms for the *duration* and *trip starting hour in the day* attributes. For both the *duration*  and the *trip starting hour* use *discrete 1-hour intervals*. What do you observe in each plot? What are some popular values in the *duration* plot? Explain the local maxima and the trends you observe on the *trip starting hour* plot based on human behavior.\n",
    "* For each *trip route category*, calculate the proportion of trips by *passholder type* and present your results in *a stacked bar chart with normalized height*.\n",
    "* Considering only trips that begin in the morning hours (before noon), plot in *a single bar chart* the proportion of trips by *passholder type* and *trip route category*. Explain any outliers you observe.\n",
    "* Separate the hours of the day into two intervals that have (approximately) the same number of bikes leaving the stations. For each of the two intervals calculate the proportion of trips by *passholder type* and *trip route category*. Present your results in a `DataFrame` which has a unique, non-composite index. Does the proportion of trips depend on whether it is the first or second hour interval? Would the company have any significant benefit by creating a more complex paying scheme where monthly pass users would pay less in the first interval and (equally) more on the second one? Assume that the number of trips per interval will not change if the scheme changes."
   ]
  },
  {
   "cell_type": "markdown",
   "metadata": {},
   "source": [
    "**1. Plot the *distribution* of the number of outgoing trips from each station in a histogram with 20 bins (Hint: each bin describes a range of counts, not stations).**"
   ]
  },
  {
   "cell_type": "code",
   "execution_count": 31,
   "metadata": {},
   "outputs": [
    {
     "data": {
      "image/png": "[encoded data removed]",
      "text/plain": [
       "<Figure size 720x504 with 1 Axes>"
      ]
     },
     "metadata": {},
     "output_type": "display_data"
    }
   ],
   "source": [
    "# The number of outgoing trips for a given station is equivalent to\n",
    "# the number of occurences of this station in the DataFrame\n",
    "plt.hist(df_reduced['Starting Station ID'].value_counts(), bins=20)\n",
    "plt.xlabel(\"# Outgoing trips\")\n",
    "plt.ylabel(\"Frequency\")\n",
    "plt.title('Distributions of outgoing trips')\n",
    "plt.show()"
   ]
  },
  {
   "cell_type": "markdown",
   "metadata": {},
   "source": [
    "**2. Plot histograms for the *duration* and *trip starting hour in the day* attributes. For both the *duration*  and the *trip starting hour* use *discrete 1-hour intervals*. What do you observe in each plot? What are some popular values in the *duration* plot? Explain the local maxima and the trends you observe on the *trip starting hour* plot based on human behavior.**"
   ]
  },
  {
   "cell_type": "code",
   "execution_count": 32,
   "metadata": {},
   "outputs": [
    {
     "data": {
      "image/png": "[encoded data removed]",
      "text/plain": [
       "<Figure size 720x504 with 1 Axes>"
      ]
     },
     "metadata": {},
     "output_type": "display_data"
    }
   ],
   "source": [
    "durations = bike_data['Duration'].apply(lambda x: int(x/3600)).values\n",
    "plt.hist(durations, bins=20)\n",
    "plt.xlabel(\"Duration [h]\")\n",
    "plt.ylabel(\"# of trips\")\n",
    "plt.title('Number of trips in function of their duration')  \n",
    "plt.show()"
   ]
  },
  {
   "cell_type": "markdown",
   "metadata": {},
   "source": [
    "###### In the previous plot we observe that:\n",
    "\n",
    "- By far the most popular value is 0, meaning that most trips last less than an hour. We hypothesize that this is due to the fact that a large proportion of people use the bikes to go to work and return home. If it took more than 1h to do that, people would prefer driving their cars instead.\n",
    "\n",
    "- Another hypotesis can be made that trips shorter than 1 hour are free of charge for all passholder types. In this case users would prefer taking short trips."
   ]
  },
  {
   "cell_type": "code",
   "execution_count": 33,
   "metadata": {},
   "outputs": [
    {
     "data": {
      "image/png": "[encoded data removed]",
      "text/plain": [
       "<Figure size 720x504 with 1 Axes>"
      ]
     },
     "metadata": {},
     "output_type": "display_data"
    }
   ],
   "source": [
    "hours = bike_data['Start Time'].apply(lambda x: datetime.strptime(x, '%Y-%m-%dT%H:%M:%S').hour)\n",
    "plt.hist(hours, bins= 24)\n",
    "plt.xlabel(\"Hour\")\n",
    "plt.ylabel(\"Number of outgoing trips\")\n",
    "plt.title('Distribution of the amount of outgoing trips during the day')\n",
    "plt.show()"
   ]
  },
  {
   "cell_type": "markdown",
   "metadata": {},
   "source": [
    "###### In the previous plot we observe that:\n",
    "- Global minima is at 4 A.M\n",
    "- Global maxima is at 5 P.M\n",
    "- Local maxima at noon and 8 A.M\n",
    "- This histogram let us see human activity. Practically no activity during the night but a lot of travelling during the day. We also observe peaks of activity at times when people go to work, the lunch break and finally when they go home."
   ]
  },
  {
   "cell_type": "markdown",
   "metadata": {},
   "source": [
    "3. **For each trip route category, calculate the proportion of trips by passholder type and present your results in a stacked bar chart with normalized height.**"
   ]
  },
  {
   "cell_type": "code",
   "execution_count": 34,
   "metadata": {},
   "outputs": [],
   "source": [
    "# We count the number of Trip for a given Route Category AND Passholder Type\n",
    "bike_grouped = bike_data.groupby(['Trip Route Category', 'Passholder Type']).agg({'Passholder Type':'count'})\n",
    "bike_grouped.columns=['count']\n",
    "\n",
    "# Separating Data: bike_one := 'One Way' | bike_round := 'Round Trip'\n",
    "bike_one, bike_round = bike_grouped[:4], bike_grouped[4:]\n",
    "\n",
    "# Compute proportions and remove multi-index\n",
    "bike_one = bike_one.groupby(level=0).apply(lambda x: x / x.sum()).reset_index()\n",
    "bike_round = bike_round.groupby(level=0).apply(lambda x: x / x.sum()).reset_index()"
   ]
  },
  {
   "cell_type": "code",
   "execution_count": 35,
   "metadata": {},
   "outputs": [],
   "source": [
    "bike_pivoted = pd.concat([bike_one, bike_round])\n",
    "bike_pivoted = bike_pivoted.pivot(index='Trip Route Category', columns='Passholder Type', values='count')"
   ]
  },
  {
   "cell_type": "code",
   "execution_count": 36,
   "metadata": {},
   "outputs": [
    {
     "data": {
      "image/png": "[encoded data removed]",
      "text/plain": [
       "<Figure size 720x504 with 1 Axes>"
      ]
     },
     "metadata": {},
     "output_type": "display_data"
    }
   ],
   "source": [
    "bike_pivoted.plot.bar(stacked=True, figsize=(10,7))\n",
    "\n",
    "plt.ylabel(\"Proportions\")\n",
    "plt.title('Repartition of Passholder Type for each Trip Category')\n",
    "plt.show()"
   ]
  },
  {
   "cell_type": "markdown",
   "metadata": {},
   "source": [
    "4. **Considering only trips that begin in the morning hours (before noon), plot in a single bar chart the proportion of trips by passholder type and trip route category. Explain any outliers you observe.**\n"
   ]
  },
  {
   "cell_type": "code",
   "execution_count": 37,
   "metadata": {},
   "outputs": [],
   "source": [
    "# Selectin only trip that start before noon and then grouping by Route Category and Passholder Type to get proportions\n",
    "morning_trips = bike_data[bike_data['Start Time'].apply(lambda x: datetime.strptime(x, '%Y-%m-%dT%H:%M:%S').hour) < 12]\n",
    "count_morning_per_type = morning_trips.groupby(['Trip Route Category', 'Passholder Type']) \\\n",
    "                                        .agg({'Trip ID':'count'}).apply(lambda x: x*100/x.sum())\n",
    "\n",
    "count_morning_per_type.columns=['count']"
   ]
  },
  {
   "cell_type": "code",
   "execution_count": 38,
   "metadata": {},
   "outputs": [
    {
     "data": {
      "image/png": "[encoded data removed]",
      "text/plain": [
       "<Figure size 720x504 with 1 Axes>"
      ]
     },
     "metadata": {},
     "output_type": "display_data"
    }
   ],
   "source": [
    "a= count_morning_per_type.reset_index()\n",
    "a=a.pivot(index='Trip Route Category', columns='Passholder Type')\n",
    "a['count'].plot(kind='bar')\n",
    "plt.ylabel(\"[%]\")\n",
    "plt.title('Number of Trips Distribution by Passholder Type before Noon')\n",
    "plt.show()"
   ]
  },
  {
   "cell_type": "markdown",
   "metadata": {},
   "source": [
    "5. **Separate the hours of the day into two intervals that have (approximately) the same number of bikes leaving the stations. For each of the two intervals calculate the proportion of trips by passholder type and trip route category. Present your results in a DataFrame which has a unique, non-composite index. Does the proportion of trips depend on whether it is the first or second hour interval? Would the company have any significant benefit by creating a more complex paying scheme where monthly pass users would pay less in the first interval and (equally) more on the second one? Assume that the number of trips per interval will not change if the scheme changes.**"
   ]
  },
  {
   "cell_type": "code",
   "execution_count": 39,
   "metadata": {},
   "outputs": [],
   "source": [
    "### Why do we start at 00:00 and not at 8 AM?\n",
    "bike_data['hours'] = bike_data['Start Time'].apply(lambda x: datetime.strptime(x, '%Y-%m-%dT%H:%M:%S').hour)\n",
    "hour_sorted = bike_data.sort_values(by='hours')\n",
    "\n",
    "# After sorting we get easily the median values by spliting\n",
    "mid_length = int(len(hour_sorted.hours)/2)\n",
    "\n",
    "df_bike_early = hour_sorted[:mid_length]\n",
    "df_bike_late = hour_sorted[mid_length+1:]"
   ]
  },
  {
   "cell_type": "code",
   "execution_count": 40,
   "metadata": {},
   "outputs": [],
   "source": [
    "# Getting proportions of trips in each interval for a given Route Category and Passholder Type\n",
    "df_early_prop = df_bike_early.groupby(['Trip Route Category', 'Passholder Type']).agg({'Passholder Type':'count'}).apply(lambda x: x / x.sum())\n",
    "df_late_prop = df_bike_late.groupby(['Trip Route Category', 'Passholder Type']).agg({'Passholder Type':'count'}).apply(lambda x: x / x.sum())\n",
    "\n",
    "# Renaming\n",
    "df_early_prop.columns=['proportions']\n",
    "df_late_prop.columns=['proportions']\n",
    "\n",
    "df_early_prop['Name'] = \"First Interval\"\n",
    "df_late_prop['Name'] = \"Second Interval\""
   ]
  },
  {
   "cell_type": "code",
   "execution_count": 41,
   "metadata": {},
   "outputs": [
    {
     "data": {
      "text/html": [
       "<div>\n",
       "<style scoped>\n",
       "    .dataframe tbody tr th:only-of-type {\n",
       "        vertical-align: middle;\n",
       "    }\n",
       "\n",
       "    .dataframe tbody tr th {\n",
       "        vertical-align: top;\n",
       "    }\n",
       "\n",
       "    .dataframe thead tr th {\n",
       "        text-align: left;\n",
       "    }\n",
       "\n",
       "    .dataframe thead tr:last-of-type th {\n",
       "        text-align: right;\n",
       "    }\n",
       "</style>\n",
       "<table border=\"1\" class=\"dataframe\">\n",
       "  <thead>\n",
       "    <tr>\n",
       "      <th>Trip Route Category</th>\n",
       "      <th colspan=\"4\" halign=\"left\">One Way</th>\n",
       "      <th colspan=\"4\" halign=\"left\">Round Trip</th>\n",
       "    </tr>\n",
       "    <tr>\n",
       "      <th>Passholder Type</th>\n",
       "      <th>Flex Pass</th>\n",
       "      <th>Monthly Pass</th>\n",
       "      <th>Staff Annual</th>\n",
       "      <th>Walk-up</th>\n",
       "      <th>Flex Pass</th>\n",
       "      <th>Monthly Pass</th>\n",
       "      <th>Staff Annual</th>\n",
       "      <th>Walk-up</th>\n",
       "    </tr>\n",
       "    <tr>\n",
       "      <th>Name</th>\n",
       "      <th></th>\n",
       "      <th></th>\n",
       "      <th></th>\n",
       "      <th></th>\n",
       "      <th></th>\n",
       "      <th></th>\n",
       "      <th></th>\n",
       "      <th></th>\n",
       "    </tr>\n",
       "  </thead>\n",
       "  <tbody>\n",
       "    <tr>\n",
       "      <th>First Interval</th>\n",
       "      <td>0.069518</td>\n",
       "      <td>0.592784</td>\n",
       "      <td>0.002764</td>\n",
       "      <td>0.236041</td>\n",
       "      <td>0.004002</td>\n",
       "      <td>0.031142</td>\n",
       "      <td>0.000891</td>\n",
       "      <td>0.062858</td>\n",
       "    </tr>\n",
       "    <tr>\n",
       "      <th>Second Interval</th>\n",
       "      <td>0.066920</td>\n",
       "      <td>0.578149</td>\n",
       "      <td>0.001752</td>\n",
       "      <td>0.258982</td>\n",
       "      <td>0.003292</td>\n",
       "      <td>0.025826</td>\n",
       "      <td>0.000362</td>\n",
       "      <td>0.064715</td>\n",
       "    </tr>\n",
       "  </tbody>\n",
       "</table>\n",
       "</div>"
      ],
      "text/plain": [
       "Trip Route Category   One Way                                     Round Trip  \\\n",
       "Passholder Type     Flex Pass Monthly Pass Staff Annual   Walk-up  Flex Pass   \n",
       "Name                                                                           \n",
       "First Interval       0.069518     0.592784     0.002764  0.236041   0.004002   \n",
       "Second Interval      0.066920     0.578149     0.001752  0.258982   0.003292   \n",
       "\n",
       "Trip Route Category                                      \n",
       "Passholder Type     Monthly Pass Staff Annual   Walk-up  \n",
       "Name                                                     \n",
       "First Interval          0.031142     0.000891  0.062858  \n",
       "Second Interval         0.025826     0.000362  0.064715  "
      ]
     },
     "execution_count": 41,
     "metadata": {},
     "output_type": "execute_result"
    }
   ],
   "source": [
    "df_merged = pd.concat([df_early_prop, df_late_prop]).reset_index()\n",
    "df_merged.pivot_table(index='Name', columns=['Trip Route Category','Passholder Type'], values='proportions')"
   ]
  },
  {
   "cell_type": "markdown",
   "metadata": {},
   "source": [
    "- There isn't a big difference between the proportions of trips depending on the interval, the maximum observed difference is about 2.5% (observed in  *One Way* - > *Flex Pass*).\n",
    "\n",
    "* There are more users in the *First Interval* for *Monthly Pass*, thus by reducing the price the company will decrease its profit.\n",
    "\n",
    "* But another way to split a day would be at noon. Let's check what it gives."
   ]
  },
  {
   "cell_type": "code",
   "execution_count": 42,
   "metadata": {},
   "outputs": [],
   "source": [
    "bike_data['hours'] = bike_data['Start Time'].apply(lambda x: datetime.strptime(x, '%Y-%m-%dT%H:%M:%S').hour)\n",
    "bike_morning = bike_data[bike_data['hours']<=12]\n",
    "bike_afternoon = bike_data[bike_data['hours']>12]"
   ]
  },
  {
   "cell_type": "code",
   "execution_count": 43,
   "metadata": {},
   "outputs": [],
   "source": [
    "bike_morning = bike_morning.groupby(['Trip Route Category', 'Passholder Type']).agg({'Passholder Type':'count'})\n",
    "bike_afternoon = bike_afternoon.groupby(['Trip Route Category', 'Passholder Type']).agg({'Passholder Type':'count'})\n",
    "bike_morning.columns = ['count']\n",
    "bike_afternoon.columns = ['count']\n",
    "bike_morning['Name'] = \"Morning\"\n",
    "bike_afternoon['Name'] = \"Afternoon\""
   ]
  },
  {
   "cell_type": "code",
   "execution_count": 44,
   "metadata": {},
   "outputs": [
    {
     "data": {
      "text/html": [
       "<div>\n",
       "<style scoped>\n",
       "    .dataframe tbody tr th:only-of-type {\n",
       "        vertical-align: middle;\n",
       "    }\n",
       "\n",
       "    .dataframe tbody tr th {\n",
       "        vertical-align: top;\n",
       "    }\n",
       "\n",
       "    .dataframe thead tr th {\n",
       "        text-align: left;\n",
       "    }\n",
       "\n",
       "    .dataframe thead tr:last-of-type th {\n",
       "        text-align: right;\n",
       "    }\n",
       "</style>\n",
       "<table border=\"1\" class=\"dataframe\">\n",
       "  <thead>\n",
       "    <tr>\n",
       "      <th>Trip Route Category</th>\n",
       "      <th colspan=\"4\" halign=\"left\">One Way</th>\n",
       "      <th colspan=\"4\" halign=\"left\">Round Trip</th>\n",
       "    </tr>\n",
       "    <tr>\n",
       "      <th>Passholder Type</th>\n",
       "      <th>Flex Pass</th>\n",
       "      <th>Monthly Pass</th>\n",
       "      <th>Staff Annual</th>\n",
       "      <th>Walk-up</th>\n",
       "      <th>Flex Pass</th>\n",
       "      <th>Monthly Pass</th>\n",
       "      <th>Staff Annual</th>\n",
       "      <th>Walk-up</th>\n",
       "    </tr>\n",
       "    <tr>\n",
       "      <th>Name</th>\n",
       "      <th></th>\n",
       "      <th></th>\n",
       "      <th></th>\n",
       "      <th></th>\n",
       "      <th></th>\n",
       "      <th></th>\n",
       "      <th></th>\n",
       "      <th></th>\n",
       "    </tr>\n",
       "  </thead>\n",
       "  <tbody>\n",
       "    <tr>\n",
       "      <th>Afternoon</th>\n",
       "      <td>5704</td>\n",
       "      <td>47517</td>\n",
       "      <td>182</td>\n",
       "      <td>22537</td>\n",
       "      <td>313</td>\n",
       "      <td>2323</td>\n",
       "      <td>33</td>\n",
       "      <td>5604</td>\n",
       "    </tr>\n",
       "    <tr>\n",
       "      <th>Morning</th>\n",
       "      <td>3330</td>\n",
       "      <td>30015</td>\n",
       "      <td>117</td>\n",
       "      <td>10240</td>\n",
       "      <td>170</td>\n",
       "      <td>1449</td>\n",
       "      <td>50</td>\n",
       "      <td>2843</td>\n",
       "    </tr>\n",
       "  </tbody>\n",
       "</table>\n",
       "</div>"
      ],
      "text/plain": [
       "Trip Route Category   One Way                                   Round Trip  \\\n",
       "Passholder Type     Flex Pass Monthly Pass Staff Annual Walk-up  Flex Pass   \n",
       "Name                                                                         \n",
       "Afternoon                5704        47517          182   22537        313   \n",
       "Morning                  3330        30015          117   10240        170   \n",
       "\n",
       "Trip Route Category                                    \n",
       "Passholder Type     Monthly Pass Staff Annual Walk-up  \n",
       "Name                                                   \n",
       "Afternoon                   2323           33    5604  \n",
       "Morning                     1449           50    2843  "
      ]
     },
     "execution_count": 44,
     "metadata": {},
     "output_type": "execute_result"
    }
   ],
   "source": [
    "df_merged = pd.concat([bike_morning, bike_afternoon]).reset_index()\n",
    "df_merged.pivot_table(index='Name', columns=['Trip Route Category','Passholder Type'], values='count')"
   ]
  },
  {
   "cell_type": "markdown",
   "metadata": {},
   "source": [
    "- It is now possible to make more money by having a more complex paying scheme. Reducing the price in the morning and increasing it in the afternoon. For all paying trip, there is more in the afternoon. This also has the advantage that splitting the day at noon makes more sense."
   ]
  }
 ],
 "metadata": {
  "kernelspec": {
   "display_name": "Python 3",
   "language": "python",
   "name": "python3"
  },
  "language_info": {
   "codemirror_mode": {
    "name": "ipython",
    "version": 3
   },
   "file_extension": ".py",
   "mimetype": "text/x-python",
   "name": "python",
   "nbconvert_exporter": "python",
   "pygments_lexer": "ipython3",
   "version": "3.6.6"
  }
 },
 "nbformat": 4,
 "nbformat_minor": 2
}
