{
 "cells": [
  {
   "cell_type": "markdown",
   "metadata": {},
   "source": [
    "# ADA 2018 - Homework 3\n",
    "\n",
    "\n",
    "\n",
    "## Undestanding the StackOverflow community\n",
    "\n",
    "\n",
    "Deadline: Nov 7th 2018, 23:59:59\n",
    "\n",
    "Submission link: Check channel homework-3-public"
   ]
  },
  {
   "cell_type": "markdown",
   "metadata": {},
   "source": [
    "StackOverflow is the most popular programming-related Q&A website. It serves as a platform for users to ask and answer questions and to vote questions and answers up or down. Users of StackOverflow can earn reputation points and \"badges\"; for example, a person is awarded 10 reputation points for receiving an \"up\" vote on an answer given to a question, and 5 points for the \"up\" vote on a question asked. Also, users receive badges for their valued contributions, which represents a kind of gamification of the traditional Q&A site. \n",
    "\n",
    "[Learn more about StackOverflow on Wikipedia](https://en.wikipedia.org/wiki/Stack_Overflow)\n",
    "\n",
    "----\n",
    "\n",
    "Dataset link:\n",
    "\n",
    "https://drive.google.com/open?id=1POlGjqzw9v_pZ_bUnXGihOgk45kbvNjB\n",
    "\n",
    "http://iccluster053.iccluster.epfl.ch/Posts.json.zip (mirror 1)\n",
    "\n",
    "https://iloveadatas.com/datasets/Posts.json.zip (mirror 2)\n",
    "\n",
    "Dataset description:\n",
    "\n",
    "* **Id**: Id of the post\n",
    "* **CreationDate**: Creation date of the post (String format)\n",
    "* **PostTypeId**: Type of post (Question = 1, Answer = 2)\n",
    "* **ParentId**: The id of the question. Only present if PostTypeId = 2\n",
    "* **Score**: Points assigned by the users\n",
    "* **Tags**: Tags of the question. Only present if PostTypeId = 1\n",
    "* **Title**: Only present if PostTypeId = 1\n",
    "* **ViewCount**: Only present if PostTypeId = 1\n",
    "\n",
    "The dataset format is JSON. Here are examples of a question and an answer:\n",
    "\n",
    "Question:\n",
    "```json\n",
    "{\n",
    "    \"Id\": 10130734,\n",
    "    \"CreationDate\": \"2012-04-12T19:51:25.793+02:00\",\n",
    "    \"PostTypeId\": 1,\n",
    "    \"Score\": 4,\n",
    "    \"Tags\": \"<python><pandas>\",\n",
    "    \"Title\": \"Best way to insert a new value\",\n",
    "    \"ViewCount\": 3803\n",
    "}\n",
    "```\n",
    "\n",
    "Answer:\n",
    "```json\n",
    "{  \n",
    "   \"CreationDate\":\"2010-10-26T03:19:05.063+02:00\",\n",
    "   \"Id\":4020440,\n",
    "   \"ParentId\":4020214,\n",
    "   \"PostTypeId\":2,\n",
    "   \"Score\":1\n",
    "}\n",
    "```\n",
    "\n",
    "----\n",
    "Useful resources:\n",
    "\n",
    "**Spark SQL, DataFrames and Datasets Guide**\n",
    "\n",
    "https://spark.apache.org/docs/latest/sql-programming-guide.html\n",
    "\n",
    "**Database schema documentation for the public data dump**\n",
    "\n",
    "https://meta.stackexchange.com/questions/2677/database-schema-documentation-for-the-public-data-dump-and-sede\n",
    "\n",
    "----\n",
    "\n",
    "**Note:** Use Spark where possible. Some computations can take more than 10 minutes on a common notebook. Consider to save partial results on disk."
   ]
  },
  {
   "cell_type": "code",
   "execution_count": 2,
   "metadata": {},
   "outputs": [],
   "source": [
    "# Add your imports here\n",
    "# import pandas as pd\n",
    "# import numpy as np\n",
    "# import scipy as sp\n",
    "# from pyspark.sql import *\n",
    "# %matplotlib inline\n",
    "\n",
    "# spark = SparkSession.builder.getOrCreate()\n",
    "import re\n",
    "import pandas as pd\n",
    "import numpy as np\n",
    "import matplotlib\n",
    "import matplotlib.pyplot as plt\n",
    "%matplotlib inline\n",
    "\n",
    "import findspark\n",
    "findspark.init()\n",
    "\n",
    "from pyspark.sql import *\n",
    "from pyspark.sql.functions import *\n",
    "from pyspark.sql.functions import min\n",
    "\n",
    "from pyspark.sql import SparkSession\n",
    "from pyspark import SparkContext\n",
    "\n",
    "spark = SparkSession.builder.getOrCreate()\n",
    "sc = spark.sparkContext\n",
    "\n",
    "#to check code speed\n",
    "import time\n",
    "def print_exec_time(start_time):\n",
    "    print('Execution time {} [s]'.format(np.floor((time.time() - start_time)*1000)/1000))\n",
    "    \n",
    "#set up some global variables\n",
    "ID_QUESTION = 1\n",
    "ID_ANSWER = 2"
   ]
  },
  {
   "cell_type": "markdown",
   "metadata": {},
   "source": [
    "### Task A: Convert the dataset to a more convenient format\n",
    "As a warm-up task (and to avoid to warm up your laptop too much), load the dataset into a Spark dataframe, show the content, and save it in the _Parquet_ format. Use this step to convert the fields to a more convenient form.\n",
    "\n",
    "Answer the following questions:\n",
    "\n",
    "1. How many questions have been asked on StackOverflow?\n",
    "2. How many answers have been given?\n",
    "3. What is the percentage of questions with a score of 0?\n",
    "\n",
    "**Hint:** The next tasks involve a time difference. Consider storing time in numeric format."
   ]
  },
  {
   "cell_type": "code",
   "execution_count": 3,
   "metadata": {},
   "outputs": [],
   "source": [
    "# In order to load the data directly from the parquet once it has been create.\n",
    "# We first try to read the parquet if it doesn't work we read the json then overwrite the parquet.\n",
    "# This solution seems more elegant than comment the code to read write the JSON or to not run all cells.\n",
    "try:\n",
    "    posts = spark.read.json('Posts.json')\n",
    "    print('read post')\n",
    "    posts.write.mode('overwrite').parquet(\"posts.parquet\")\n",
    "    print('Wrote paquet')\n",
    "except:\n",
    "    posts = spark.read.parquet(\"posts.parquet\")"
   ]
  },
  {
   "cell_type": "markdown",
   "metadata": {},
   "source": [
    "# Question\n",
    "1-  How many questions have been asked on StackOverflow?"
   ]
  },
  {
   "cell_type": "code",
   "execution_count": 4,
   "metadata": {},
   "outputs": [
    {
     "name": "stdout",
     "output_type": "stream",
     "text": [
      "Execution time 2.12 [s]\n",
      "15647060 questions have been asked on StackOverflow (according to our data)\n"
     ]
    }
   ],
   "source": [
    "start_time = time.time()\n",
    "#Getting all the questions\n",
    "nb_questions = posts.filter(posts.PostTypeId == ID_QUESTION).count()\n",
    "print_exec_time(start_time)\n",
    "print('{} questions have been asked on StackOverflow (according to our data)'.format(nb_questions))"
   ]
  },
  {
   "cell_type": "markdown",
   "metadata": {},
   "source": [
    "# Question\n",
    "2- How many answers have been given?"
   ]
  },
  {
   "cell_type": "code",
   "execution_count": 5,
   "metadata": {},
   "outputs": [
    {
     "name": "stdout",
     "output_type": "stream",
     "text": [
      "Execution time 0.63 [s]\n",
      "25192772 answers have been given on StackOverflow (according to our data)\n"
     ]
    }
   ],
   "source": [
    "start_time = time.time()\n",
    "#Getting all the answers\n",
    "nb_answers=posts.filter(posts.PostTypeId == ID_ANSWER).count()\n",
    "print_exec_time(start_time)\n",
    "print('{} answers have been given on StackOverflow (according to our data)'.format(nb_answers))"
   ]
  },
  {
   "cell_type": "markdown",
   "metadata": {},
   "source": [
    "# Question\n",
    "3- What is the percentage of questions with a score of 0?"
   ]
  },
  {
   "cell_type": "code",
   "execution_count": 6,
   "metadata": {},
   "outputs": [
    {
     "name": "stdout",
     "output_type": "stream",
     "text": [
      "Execution time 0.879 [s]\n",
      "The percentage of question with a score of zero is 46.54\n"
     ]
    }
   ],
   "source": [
    "start_time = time.time()\n",
    "nb_questions_scor0 = posts.filter((posts.PostTypeId == ID_QUESTION) & (posts.Score == 0)).count()\n",
    "print_exec_time(start_time)\n",
    "print('The percentage of question with a score of zero is {}'.format(int(nb_questions_scor0/nb_questions*10**4)/10**2))"
   ]
  },
  {
   "cell_type": "markdown",
   "metadata": {},
   "source": [
    "**Hint:** Load the dataset from the Parquet file for the next tasks."
   ]
  },
  {
   "cell_type": "markdown",
   "metadata": {},
   "source": [
    "### Task B: What are the 10 most popular tags?\n",
    "\n",
    "What are the most popular tags in StackOverflow? Use Spark to extract the information you need, and answer the following questions with Pandas and Matplotlib (or Seaborn):\n",
    "\n",
    "1. What is the proportion of tags that appear in fewer than 100 questions?\n",
    "2. Plot the distribution of the tag counts using an appropriate representation.\n",
    "3. Plot a bar chart with the number of questions for the 10 most popular tags.\n",
    "\n",
    "For each task describe your findings briefly."
   ]
  },
  {
   "cell_type": "markdown",
   "metadata": {},
   "source": [
    "##### First, looking at the table "
   ]
  },
  {
   "cell_type": "code",
   "execution_count": 7,
   "metadata": {
    "scrolled": true
   },
   "outputs": [
    {
     "name": "stdout",
     "output_type": "stream",
     "text": [
      "+--------------------+--------+--------+----------+-----+--------------------+--------------------+---------+\n",
      "|        CreationDate|      Id|ParentId|PostTypeId|Score|                Tags|               Title|ViewCount|\n",
      "+--------------------+--------+--------+----------+-----+--------------------+--------------------+---------+\n",
      "|2017-08-17T16:20:...|45740344|45740224|         2|    0|                null|                null|     null|\n",
      "|2017-08-17T16:20:...|45740346|45739185|         2|    1|                null|                null|     null|\n",
      "|2017-08-17T16:20:...|45740348|    null|         1|    2|<flash><react-nat...|Is it possible to...|      143|\n",
      "|2017-08-17T16:20:...|45740350|45739102|         2|    1|                null|                null|     null|\n",
      "|2017-08-17T16:20:...|45740352|42473616|         2|    0|                null|                null|     null|\n",
      "+--------------------+--------+--------+----------+-----+--------------------+--------------------+---------+\n",
      "only showing top 5 rows\n",
      "\n"
     ]
    }
   ],
   "source": [
    "posts.show(5)"
   ]
  },
  {
   "cell_type": "markdown",
   "metadata": {},
   "source": [
    "##### Then, removing the null tags"
   ]
  },
  {
   "cell_type": "code",
   "execution_count": 8,
   "metadata": {
    "scrolled": true
   },
   "outputs": [
    {
     "name": "stdout",
     "output_type": "stream",
     "text": [
      "Execution time 0.019 [s]\n",
      "+--------------------+--------+--------+----------+-----+--------------------+--------------------+---------+\n",
      "|        CreationDate|      Id|ParentId|PostTypeId|Score|                Tags|               Title|ViewCount|\n",
      "+--------------------+--------+--------+----------+-----+--------------------+--------------------+---------+\n",
      "|2017-08-17T16:20:...|45740348|    null|         1|    2|<flash><react-nat...|Is it possible to...|      143|\n",
      "|2017-08-17T16:20:...|45740355|    null|         1|    1|<postgresql><form...|Remove trailing z...|      444|\n",
      "|2017-08-17T16:21:...|45740358|    null|         1|    0|<python><websocke...|Python websockets...|      280|\n",
      "|2017-08-17T16:21:...|45740363|    null|         1|    0|<facebook><facebo...|Image meta tag no...|       97|\n",
      "|2017-08-17T16:21:...|45740371|    null|         1|    1|    <mongodb><shell>|Using Mongo-cli t...|      185|\n",
      "+--------------------+--------+--------+----------+-----+--------------------+--------------------+---------+\n",
      "only showing top 5 rows\n",
      "\n"
     ]
    }
   ],
   "source": [
    "start_time = time.time()\n",
    "posts_tagsClean = posts.filter(~posts.Tags.isNull())\n",
    "print_exec_time(start_time)\n",
    "#check it\n",
    "posts_tagsClean.show(5)"
   ]
  },
  {
   "cell_type": "markdown",
   "metadata": {},
   "source": [
    "##### They seem to be only question let's check if it is true"
   ]
  },
  {
   "cell_type": "code",
   "execution_count": 9,
   "metadata": {
    "scrolled": true
   },
   "outputs": [
    {
     "data": {
      "text/plain": [
       "0"
      ]
     },
     "execution_count": 9,
     "metadata": {},
     "output_type": "execute_result"
    }
   ],
   "source": [
    "posts_tagsClean.filter(posts_tagsClean.PostTypeId != ID_QUESTION).count()"
   ]
  },
  {
   "cell_type": "markdown",
   "metadata": {},
   "source": [
    "There is indeed only questions we will not have to check for the PostTypeId for the following"
   ]
  },
  {
   "cell_type": "markdown",
   "metadata": {},
   "source": [
    "##### Now we explode the tags to get each individual tags"
   ]
  },
  {
   "cell_type": "code",
   "execution_count": 10,
   "metadata": {},
   "outputs": [
    {
     "name": "stdout",
     "output_type": "stream",
     "text": [
      "Execution time 0.029 [s]\n",
      "+--------------------+--------+--------+----------+-----+-------------+--------------------+---------+\n",
      "|        CreationDate|      Id|ParentId|PostTypeId|Score|         Tags|               Title|ViewCount|\n",
      "+--------------------+--------+--------+----------+-----+-------------+--------------------+---------+\n",
      "|2017-08-17T16:20:...|45740348|    null|         1|    2|       <flash|Is it possible to...|      143|\n",
      "|2017-08-17T16:20:...|45740348|    null|         1|    2|react-native>|Is it possible to...|      143|\n",
      "|2017-08-17T16:20:...|45740355|    null|         1|    1|  <postgresql|Remove trailing z...|      444|\n",
      "|2017-08-17T16:20:...|45740355|    null|         1|    1|   formatting|Remove trailing z...|      444|\n",
      "|2017-08-17T16:20:...|45740355|    null|         1|    1|     plpgsql>|Remove trailing z...|      444|\n",
      "+--------------------+--------+--------+----------+-----+-------------+--------------------+---------+\n",
      "only showing top 5 rows\n",
      "\n"
     ]
    }
   ],
   "source": [
    "start_time = time.time()\n",
    "posts_expoded = posts_tagsClean.withColumn('Tags', explode(split('Tags', '><')))\n",
    "print_exec_time(start_time)\n",
    "#check first 5 tags\n",
    "posts_expoded.show(5)"
   ]
  },
  {
   "cell_type": "markdown",
   "metadata": {},
   "source": [
    "##### finally remove the < and >"
   ]
  },
  {
   "cell_type": "code",
   "execution_count": 10,
   "metadata": {},
   "outputs": [
    {
     "name": "stdout",
     "output_type": "stream",
     "text": [
      "Execution time 0.168 [s]\n",
      "+--------------------+--------+--------+----------+-----+------------+--------------------+---------+\n",
      "|        CreationDate|      Id|ParentId|PostTypeId|Score|        Tags|               Title|ViewCount|\n",
      "+--------------------+--------+--------+----------+-----+------------+--------------------+---------+\n",
      "|2017-08-17T16:20:...|45740348|    null|         1|    2|       flash|Is it possible to...|      143|\n",
      "|2017-08-17T16:20:...|45740348|    null|         1|    2|react-native|Is it possible to...|      143|\n",
      "|2017-08-17T16:20:...|45740355|    null|         1|    1|  postgresql|Remove trailing z...|      444|\n",
      "|2017-08-17T16:20:...|45740355|    null|         1|    1|  formatting|Remove trailing z...|      444|\n",
      "|2017-08-17T16:20:...|45740355|    null|         1|    1|     plpgsql|Remove trailing z...|      444|\n",
      "+--------------------+--------+--------+----------+-----+------------+--------------------+---------+\n",
      "only showing top 5 rows\n",
      "\n"
     ]
    }
   ],
   "source": [
    "start_time = time.time()\n",
    "posts_final = posts_expoded.withColumn('Tags', regexp_replace('Tags', '<', '')).withColumn('Tags', regexp_replace('Tags', '>', ''))\n",
    "print_exec_time(start_time)\n",
    "#check first 5 tags without \"<\" and \">\"\n",
    "posts_final.show(5)"
   ]
  },
  {
   "cell_type": "markdown",
   "metadata": {},
   "source": [
    "### We can now answer the questions"
   ]
  },
  {
   "cell_type": "markdown",
   "metadata": {},
   "source": [
    "# Question\n",
    "1- What is the proportion of tags that appear in fewer than 100 questions?"
   ]
  },
  {
   "cell_type": "code",
   "execution_count": 11,
   "metadata": {},
   "outputs": [],
   "source": [
    "# One elegante solution is to use the SQL language to do it\n",
    "posts_final.registerTempTable('posts_sql2')"
   ]
  },
  {
   "cell_type": "code",
   "execution_count": 12,
   "metadata": {},
   "outputs": [
    {
     "name": "stdout",
     "output_type": "stream",
     "text": [
      "Execution time 117.997 [s]\n",
      "The number of tags that appears in less than 100 questions is 36025\n"
     ]
    }
   ],
   "source": [
    "start_time = time.time()\n",
    "#Getting count of tags that appear in less than 100 questions\n",
    "queryB1 = \"\"\"\n",
    "select Tags, count(*) as count_tags\n",
    "from posts_sql2\n",
    "group by Tags\n",
    "having count_tags < 100\n",
    "\"\"\"\n",
    "resultB1 = spark.sql(queryB1)\n",
    "nb_tag_less100 = resultB1.count()\n",
    "print_exec_time(start_time)\n",
    "print('The number of tags that appears in less than 100 questions is {}'.format(nb_tag_less100))\n",
    "# resultB1.show()"
   ]
  },
  {
   "cell_type": "code",
   "execution_count": 13,
   "metadata": {},
   "outputs": [
    {
     "name": "stdout",
     "output_type": "stream",
     "text": [
      "Execution time 121.712 [s]\n",
      "There is 52994 distinct tags\n"
     ]
    }
   ],
   "source": [
    "start_time = time.time()\n",
    "nb_distinct_tags = posts_final.filter(posts_final.PostTypeId == ID_QUESTION).dropDuplicates(['Tags']).count()\n",
    "print_exec_time(start_time)\n",
    "print('There is {} distinct tags'.format(nb_distinct_tags))"
   ]
  },
  {
   "cell_type": "code",
   "execution_count": 14,
   "metadata": {},
   "outputs": [
    {
     "name": "stdout",
     "output_type": "stream",
     "text": [
      "The proportion of tags present in less that a hundred Questions is 0.67\n"
     ]
    }
   ],
   "source": [
    "proportion = nb_tag_less100 / nb_distinct_tags\n",
    "print('The proportion of tags present in less that a hundred Questions is {}'.format(int(proportion*10**2)/10**2))"
   ]
  },
  {
   "cell_type": "markdown",
   "metadata": {},
   "source": [
    "# Question\n",
    "2- Plot the distribution of the tag counts using an appropriate representation."
   ]
  },
  {
   "cell_type": "markdown",
   "metadata": {},
   "source": [
    "Again let's use SQL language to do the query we are counting the number of time each tag appears."
   ]
  },
  {
   "cell_type": "code",
   "execution_count": 15,
   "metadata": {},
   "outputs": [
    {
     "name": "stdout",
     "output_type": "stream",
     "text": [
      "Execution time 120.803 [s]\n"
     ]
    }
   ],
   "source": [
    "start_time = time.time()\n",
    "#counting the number of time each tag appears\n",
    "queryB2 = \"\"\"\n",
    "select Tags, count(*) as count_tags\n",
    "from posts_sql2\n",
    "group by Tags\n",
    "\"\"\"\n",
    "resultB2 = spark.sql(queryB2)\n",
    "pd_resultB2 = resultB2.select('count_tags').toPandas()\n",
    "print_exec_time(start_time)"
   ]
  },
  {
   "cell_type": "markdown",
   "metadata": {},
   "source": [
    "A histogram is the basic choice to represent the distribution"
   ]
  },
  {
   "cell_type": "code",
   "execution_count": 16,
   "metadata": {},
   "outputs": [
    {
     "data": {
      "image/png": "[encoded data removed]",
      "text/plain": [
       "<Figure size 432x288 with 1 Axes>"
      ]
     },
     "metadata": {},
     "output_type": "display_data"
    }
   ],
   "source": [
    "fig = plt.figure()\n",
    "ax = fig.add_subplot(111)\n",
    "n, bins, rectangles = ax.hist(pd_resultB2.values, bins=np.logspace(1,np.log10(pd_resultB2.values.max()), 50), density=True)\n",
    "fig.canvas.draw()\n",
    "plt.yscale('log')\n",
    "plt.xscale('log')\n",
    "# plt.xticks(rotation=30)\n",
    "plt.xlabel('Number of times a tag appears')\n",
    "plt.ylabel('Proportion')\n",
    "plt.title('Distribution of the number of times a tag appears')\n",
    "plt.show()"
   ]
  },
  {
   "cell_type": "markdown",
   "metadata": {},
   "source": [
    "# Question\n",
    "3- Plot a bar chart with the number of questions for the 10 most popular tags."
   ]
  },
  {
   "cell_type": "code",
   "execution_count": 17,
   "metadata": {},
   "outputs": [
    {
     "name": "stdout",
     "output_type": "stream",
     "text": [
      "Execution time 123.264 [s]\n"
     ]
    }
   ],
   "source": [
    "start_time = time.time()\n",
    "#Getting number of questions for the 10 most popular tags\n",
    "queryB3 = \"\"\"\n",
    "select Tags, count(*) as count_tags\n",
    "from posts_sql2\n",
    "group by Tags\n",
    "order by count_tags desc\n",
    "limit 10\n",
    "\"\"\"\n",
    "resultB3 = spark.sql(queryB3)\n",
    "pd_resultB3 = resultB3.toPandas()\n",
    "print_exec_time(start_time)"
   ]
  },
  {
   "cell_type": "markdown",
   "metadata": {},
   "source": [
    "Let's check the result of this query"
   ]
  },
  {
   "cell_type": "code",
   "execution_count": 18,
   "metadata": {},
   "outputs": [
    {
     "name": "stdout",
     "output_type": "stream",
     "text": [
      "+----------+----------+\n",
      "|      Tags|count_tags|\n",
      "+----------+----------+\n",
      "|javascript|   1585495|\n",
      "|      java|   1352735|\n",
      "|        c#|   1172492|\n",
      "|       php|   1136082|\n",
      "|   android|   1088811|\n",
      "|    python|    954401|\n",
      "|    jquery|    886982|\n",
      "|      html|    725289|\n",
      "|       ios|    551843|\n",
      "|       c++|    536267|\n",
      "+----------+----------+\n",
      "\n"
     ]
    }
   ],
   "source": [
    "resultB3.show()"
   ]
  },
  {
   "cell_type": "markdown",
   "metadata": {},
   "source": [
    "This are very courant languages so the result makes perfect sense"
   ]
  },
  {
   "cell_type": "code",
   "execution_count": 19,
   "metadata": {
    "scrolled": true
   },
   "outputs": [
    {
     "data": {
      "image/png": "[encoded data removed]",
      "text/plain": [
       "<Figure size 432x288 with 1 Axes>"
      ]
     },
     "metadata": {},
     "output_type": "display_data"
    }
   ],
   "source": [
    "pd_resultB3.plot.barh(x='Tags')\n",
    "plt.xticks(rotation=30)\n",
    "plt.xlabel('Number of questions')\n",
    "plt.title('Number of questions for the 10 most popular tags')\n",
    "plt.show()"
   ]
  },
  {
   "cell_type": "markdown",
   "metadata": {},
   "source": [
    "### Task C: View-score relation\n",
    "\n",
    "We want to investigate the correlation between the view count and the score of questions.\n",
    "\n",
    "1. Get the view count and score of the questions with tag ```random-effects``` and visualize the relation between these two variables using an appropriate plot.\n",
    "2. Are these two variables correlated? Use the Pearson coefficient to validate your hypothesis. Discuss your findings in detail.\n",
    "\n",
    "**Hint:** Inspect the data visually before drawing your conclusions."
   ]
  },
  {
   "cell_type": "markdown",
   "metadata": {},
   "source": [
    "# Question\n",
    "1- Get questions with tag 'random-effect' and visualize the relation between these two variables using an appropriate plot."
   ]
  },
  {
   "cell_type": "code",
   "execution_count": 20,
   "metadata": {},
   "outputs": [
    {
     "name": "stdout",
     "output_type": "stream",
     "text": [
      "Execution time 0.176 [s]\n"
     ]
    }
   ],
   "source": [
    "start_time = time.time()\n",
    "#Getting questions with tag 'random-effect' \n",
    "#we could only filter with the tags instead of filtering with ID_QUESTION because answers don't have tag\n",
    "questions_ran_eff = posts.filter((posts.PostTypeId == ID_QUESTION) & (posts.Tags.contains('random-effect')))\n",
    "print_exec_time(start_time)\n",
    "pd_questions_ran_eff=questions_ran_eff.toPandas()"
   ]
  },
  {
   "cell_type": "code",
   "execution_count": 21,
   "metadata": {},
   "outputs": [
    {
     "data": {
      "image/png": "[encoded data removed]",
      "text/plain": [
       "<Figure size 432x288 with 1 Axes>"
      ]
     },
     "metadata": {},
     "output_type": "display_data"
    }
   ],
   "source": [
    "pd_questions_ran_eff.plot.scatter(x='Score', y='ViewCount')\n",
    "plt.title('Correlation between the score of a post and its number of views')\n",
    "plt.yscale('linear')\n",
    "plt.show()"
   ]
  },
  {
   "cell_type": "markdown",
   "metadata": {},
   "source": [
    "# Question\n",
    "2- Are these two variables correlated? Use the Pearson coefficient to validate your hypothesis. Discuss your findings in detail."
   ]
  },
  {
   "cell_type": "markdown",
   "metadata": {},
   "source": [
    "The two variables seem positively correlated. This correlation is apparently due mainly to the two outliers."
   ]
  },
  {
   "cell_type": "code",
   "execution_count": 22,
   "metadata": {},
   "outputs": [
    {
     "data": {
      "text/html": [
       "<div>\n",
       "<style scoped>\n",
       "    .dataframe tbody tr th:only-of-type {\n",
       "        vertical-align: middle;\n",
       "    }\n",
       "\n",
       "    .dataframe tbody tr th {\n",
       "        vertical-align: top;\n",
       "    }\n",
       "\n",
       "    .dataframe thead th {\n",
       "        text-align: right;\n",
       "    }\n",
       "</style>\n",
       "<table border=\"1\" class=\"dataframe\">\n",
       "  <thead>\n",
       "    <tr style=\"text-align: right;\">\n",
       "      <th></th>\n",
       "      <th>Score</th>\n",
       "      <th>ViewCount</th>\n",
       "    </tr>\n",
       "  </thead>\n",
       "  <tbody>\n",
       "    <tr>\n",
       "      <th>Score</th>\n",
       "      <td>1.000000</td>\n",
       "      <td>0.882197</td>\n",
       "    </tr>\n",
       "    <tr>\n",
       "      <th>ViewCount</th>\n",
       "      <td>0.882197</td>\n",
       "      <td>1.000000</td>\n",
       "    </tr>\n",
       "  </tbody>\n",
       "</table>\n",
       "</div>"
      ],
      "text/plain": [
       "              Score  ViewCount\n",
       "Score      1.000000   0.882197\n",
       "ViewCount  0.882197   1.000000"
      ]
     },
     "execution_count": 22,
     "metadata": {},
     "output_type": "execute_result"
    }
   ],
   "source": [
    "#do Pearson\n",
    "pd_questions_ran_eff[['Score', 'ViewCount']].corr(method='pearson')"
   ]
  },
  {
   "cell_type": "markdown",
   "metadata": {},
   "source": [
    "The Pearson coefficient indicates that there is indeed a strong positive linear correlation (0.88) between the score and the number of views of a post. \n"
   ]
  },
  {
   "cell_type": "code",
   "execution_count": 23,
   "metadata": {},
   "outputs": [],
   "source": [
    "#check what happens when we remove the outliers\n",
    "pd_questions_ran_eff_noOutliers = pd_questions_ran_eff[pd_questions_ran_eff['Score']<15]"
   ]
  },
  {
   "cell_type": "code",
   "execution_count": 24,
   "metadata": {
    "scrolled": true
   },
   "outputs": [
    {
     "data": {
      "text/html": [
       "<div>\n",
       "<style scoped>\n",
       "    .dataframe tbody tr th:only-of-type {\n",
       "        vertical-align: middle;\n",
       "    }\n",
       "\n",
       "    .dataframe tbody tr th {\n",
       "        vertical-align: top;\n",
       "    }\n",
       "\n",
       "    .dataframe thead th {\n",
       "        text-align: right;\n",
       "    }\n",
       "</style>\n",
       "<table border=\"1\" class=\"dataframe\">\n",
       "  <thead>\n",
       "    <tr style=\"text-align: right;\">\n",
       "      <th></th>\n",
       "      <th>Score</th>\n",
       "      <th>ViewCount</th>\n",
       "    </tr>\n",
       "  </thead>\n",
       "  <tbody>\n",
       "    <tr>\n",
       "      <th>Score</th>\n",
       "      <td>1.000000</td>\n",
       "      <td>0.439389</td>\n",
       "    </tr>\n",
       "    <tr>\n",
       "      <th>ViewCount</th>\n",
       "      <td>0.439389</td>\n",
       "      <td>1.000000</td>\n",
       "    </tr>\n",
       "  </tbody>\n",
       "</table>\n",
       "</div>"
      ],
      "text/plain": [
       "              Score  ViewCount\n",
       "Score      1.000000   0.439389\n",
       "ViewCount  0.439389   1.000000"
      ]
     },
     "execution_count": 24,
     "metadata": {},
     "output_type": "execute_result"
    }
   ],
   "source": [
    "#do Pearson\n",
    "pd_questions_ran_eff_noOutliers[['Score', 'ViewCount']].corr(method='pearson')"
   ]
  },
  {
   "cell_type": "markdown",
   "metadata": {},
   "source": [
    "The correlation is much weaker, which confirm that the outliers with a very high score and #view influence the most the correlation. "
   ]
  },
  {
   "cell_type": "markdown",
   "metadata": {},
   "source": [
    "### Task D: What are the tags with the fastest first answer?\n",
    "\n",
    "What are the tags that have the fastest response time from the community? We define the response time as the difference in seconds between the timestamps of the question and of the first answer received.\n",
    "\n",
    "1. Get the response time for the first answer of the questions with the tags ```python``` and ```java```.\n",
    "2. Plot the two distributions in an appropriate format. What do you observe? Describe your findings and discuss the following distribution properties: mean, median, standard deviation.\n",
    "3. We believe that the response time is lower for questions related to Python (compare to Java). Contradict or confirm this assumption by estimating the proper statistic with bootstrapping. Visualize the 95% confidence intervals with box plots and describe your findings.\n",
    "3. Repeat the first analysis (D1) by using the proper statistic to measure the response time for the tags that appear at least 5000 times. Plot the distribution of the 10 tags with the fastest response time.\n"
   ]
  },
  {
   "cell_type": "markdown",
   "metadata": {},
   "source": [
    "# Question:\n",
    "Get the response time for the first answer of the questions with the tags ```python``` and ```java```."
   ]
  },
  {
   "cell_type": "code",
   "execution_count": 11,
   "metadata": {},
   "outputs": [],
   "source": [
    "#Method with spark.sql is time consuming\n",
    "'''posts.createOrReplaceTempView(\"raw_data\")\n",
    "java_tag = spark.sql(\"SELECT * from raw_data WHERE Tags == '<java_tag>'\")\n",
    "java_tag.collect()\n",
    "java_tag.count()'''\n",
    "#Getting all python and java tags from DF.filter\n",
    "java_questions = posts.filter(posts.Tags.contains('java'))\n",
    "python_questions = posts.filter(posts.Tags.contains('python'))"
   ]
  },
  {
   "cell_type": "code",
   "execution_count": 12,
   "metadata": {
    "scrolled": true
   },
   "outputs": [],
   "source": [
    "#Getting all the answers thanks to the post type: 2\n",
    "answers_df = posts.filter(posts.PostTypeId=='2')"
   ]
  },
  {
   "cell_type": "code",
   "execution_count": 13,
   "metadata": {},
   "outputs": [],
   "source": [
    "#Getting the Question Id qnd the creation date of java and python related questions\n",
    "java_questions.createOrReplaceTempView(\"jq\")\n",
    "java_quest_columnId = spark.sql(\"SELECT Id AS QuestionId, CreationDate AS QuestionDate FROM jq\")\n",
    "\n",
    "python_questions.createOrReplaceTempView(\"pq\")\n",
    "python_quest_columnId = spark.sql(\"SELECT Id AS QuestionId, CreationDate AS QuestionDate FROM pq\")"
   ]
  },
  {
   "cell_type": "code",
   "execution_count": 14,
   "metadata": {},
   "outputs": [],
   "source": [
    "java_quest_columnId.createOrReplaceTempView(\"jqc\")\n",
    "python_quest_columnId.createOrReplaceTempView(\"pqc\")\n",
    "answers_df.createOrReplaceTempView(\"ad\")\n",
    "\n",
    "#Joining Question and Answer dataframes to get all the java and python answers\n",
    "java_answers = spark.sql(\"SELECT * FROM jqc j INNER JOIN ad a ON j.QuestionId=a.ParentId\")\n",
    "python_answers = spark.sql(\"SELECT * FROM pqc p INNER JOIN ad a ON p.QuestionId=a.ParentId\")"
   ]
  },
  {
   "cell_type": "code",
   "execution_count": 15,
   "metadata": {},
   "outputs": [],
   "source": [
    "java_answers.createOrReplaceTempView(\"ja\")\n",
    "python_answers.createOrReplaceTempView(\"pa\")\n",
    "#Parsing date to convert them to date later on\n",
    "java_answers_date_parsed = java_answers.withColumn('CreationDate', regexp_replace('CreationDate', ':', ''))\n",
    "java_answers_date_parsed = java_answers_date_parsed.withColumn('QuestionDate', regexp_replace('QuestionDate', ':', ''))\n",
    "\n",
    "python_answers_date_parsed = python_answers.withColumn('CreationDate', regexp_replace('CreationDate', ':', ''))\n",
    "python_answers_date_parsed = python_answers_date_parsed.withColumn('QuestionDate', regexp_replace('QuestionDate', ':', ''))"
   ]
  },
  {
   "cell_type": "code",
   "execution_count": 16,
   "metadata": {},
   "outputs": [
    {
     "name": "stdout",
     "output_type": "stream",
     "text": [
      "root\n",
      " |-- QuestionId: long (nullable = true)\n",
      " |-- QuestionDate: timestamp (nullable = true)\n",
      " |-- CreationDate: timestamp (nullable = true)\n",
      " |-- Id: long (nullable = true)\n",
      " |-- ParentId: long (nullable = true)\n",
      " |-- PostTypeId: long (nullable = true)\n",
      " |-- Score: long (nullable = true)\n",
      " |-- Tags: string (nullable = true)\n",
      " |-- Title: string (nullable = true)\n",
      " |-- ViewCount: long (nullable = true)\n",
      "\n"
     ]
    }
   ],
   "source": [
    "from datetime import datetime\n",
    "from pyspark.sql.types import TimestampType\n",
    "#string to date conversion\n",
    "func =  udf (lambda x: datetime.strptime(x,\"%Y-%m-%dT%H%M%S.%f%z\"), TimestampType())\n",
    "\n",
    "#Converting string to date\n",
    "java_answers_date_converted = java_answers_date_parsed.withColumn('QuestionDate', func(col('QuestionDate')))\n",
    "java_answers_date_converted = java_answers_date_converted.withColumn('CreationDate', func(col('CreationDate')))\n",
    "\n",
    "python_answers_date_converted = python_answers_date_parsed.withColumn('QuestionDate', func(col('QuestionDate')))\n",
    "python_answers_date_converted = python_answers_date_converted.withColumn('CreationDate', func(col('CreationDate')))\n",
    "\n",
    "#print type of each column\n",
    "python_answers_date_converted.printSchema()"
   ]
  },
  {
   "cell_type": "code",
   "execution_count": 17,
   "metadata": {},
   "outputs": [
    {
     "name": "stdout",
     "output_type": "stream",
     "text": [
      "root\n",
      " |-- QuestionId: long (nullable = true)\n",
      " |-- QuestionDate: timestamp (nullable = true)\n",
      " |-- CreationDate: timestamp (nullable = true)\n",
      " |-- Id: long (nullable = true)\n",
      " |-- ParentId: long (nullable = true)\n",
      " |-- PostTypeId: long (nullable = true)\n",
      " |-- Score: long (nullable = true)\n",
      " |-- Tags: string (nullable = true)\n",
      " |-- Title: string (nullable = true)\n",
      " |-- ViewCount: long (nullable = true)\n",
      "\n"
     ]
    }
   ],
   "source": [
    "java_answers_date_converted.printSchema()"
   ]
  },
  {
   "cell_type": "code",
   "execution_count": 18,
   "metadata": {},
   "outputs": [
    {
     "data": {
      "text/plain": [
       "DataFrame[QuestionId: bigint, QuestionDate: timestamp, CreationDate: timestamp, Id: bigint, ParentId: bigint, PostTypeId: bigint, Score: bigint, Tags: string, Title: string, ViewCount: bigint, rank: int]"
      ]
     },
     "execution_count": 18,
     "metadata": {},
     "output_type": "execute_result"
    }
   ],
   "source": [
    "from pyspark.sql.window import Window\n",
    "from pyspark.sql.functions import rank, col\n",
    "\n",
    "java_window = Window.partitionBy(java_answers_date_converted['ParentId']).orderBy(java_answers_date_converted['CreationDate'].asc())\n",
    "python_window = Window.partitionBy(python_answers_date_converted['ParentId']).orderBy(python_answers_date_converted['CreationDate'].asc())\n",
    "\n",
    "#Keeping only the first answer for each questions to calculate the response time later on\n",
    "java_answers_date_converted.select('*', rank().over(java_window).alias('rank')).filter(col('rank') <= 1)\n",
    "python_answers_date_converted.select('*', rank().over(python_window).alias('rank')).filter(col('rank') <= 1)"
   ]
  },
  {
   "cell_type": "code",
   "execution_count": 19,
   "metadata": {},
   "outputs": [],
   "source": [
    "from pyspark.sql import functions as F\n",
    "timeFmt = \"%Y-%m-%d %H:%M:%S.%f\"\n",
    "timeDiff = (F.unix_timestamp('CreationDate', format=timeFmt)\n",
    "            - F.unix_timestamp('QuestionDate', format=timeFmt))\n",
    "#Calculating response time\n",
    "java_df_response_time_per_question = java_answers_date_converted.withColumn(\"Duration_minutes\", timeDiff/60.0)\n",
    "python_df_response_time_per_question = python_answers_date_converted.withColumn(\"Duration_minutes\", timeDiff/60.0)\n"
   ]
  },
  {
   "cell_type": "markdown",
   "metadata": {},
   "source": [
    "# Answer\n",
    "The following cells display the response time for java and python questions:"
   ]
  },
  {
   "cell_type": "code",
   "execution_count": 20,
   "metadata": {},
   "outputs": [
    {
     "name": "stdout",
     "output_type": "stream",
     "text": [
      "+----------+--------------------+--------------------+------+--------+----------+-----+----+-----+---------+------------------+\n",
      "|QuestionId|        QuestionDate|        CreationDate|    Id|ParentId|PostTypeId|Score|Tags|Title|ViewCount|  Duration_minutes|\n",
      "+----------+--------------------+--------------------+------+--------+----------+-----+----+-----+---------+------------------+\n",
      "|     22429|2008-08-22 14:04:...|2008-08-22 14:07:...| 22437|   22429|         2|    1|null| null|     null|               3.0|\n",
      "|     22429|2008-08-22 14:04:...|2008-08-22 14:07:...| 22438|   22429|         2|    1|null| null|     null| 3.183333333333333|\n",
      "|     30428|2008-08-27 15:21:...|2008-12-21 00:07:...|383914|   30428|         2|    1|null| null|     null|          166185.7|\n",
      "|     30428|2008-08-27 15:21:...|2008-10-29 17:56:...|247780|   30428|         2|    2|null| null|     null|          90934.55|\n",
      "|     30428|2008-08-27 15:21:...|2008-11-11 03:00:...|279889|   30428|         2|    0|null| null|     null|108759.43333333333|\n",
      "+----------+--------------------+--------------------+------+--------+----------+-----+----+-----+---------+------------------+\n",
      "only showing top 5 rows\n",
      "\n"
     ]
    }
   ],
   "source": [
    "java_df_response_time_per_question.show(5)"
   ]
  },
  {
   "cell_type": "code",
   "execution_count": 21,
   "metadata": {},
   "outputs": [
    {
     "name": "stdout",
     "output_type": "stream",
     "text": [
      "+----------+--------------------+--------------------+-------+--------+----------+-----+----+-----+---------+------------------+\n",
      "|QuestionId|        QuestionDate|        CreationDate|     Id|ParentId|PostTypeId|Score|Tags|Title|ViewCount|  Duration_minutes|\n",
      "+----------+--------------------+--------------------+-------+--------+----------+-----+----+-----+---------+------------------+\n",
      "|     39104|2008-09-02 09:40:...|2012-03-29 02:52:...|9918496|   39104|         2|   11|null| null|     null|1877352.2666666666|\n",
      "|     39104|2008-09-02 09:40:...|2008-09-02 11:43:...|  39295|   39104|         2|    4|null| null|     null|123.31666666666666|\n",
      "|     39104|2008-09-02 09:40:...|2008-09-02 14:26:...|  39659|   39104|         2|   25|null| null|     null|285.68333333333334|\n",
      "|     92620|2008-09-18 13:41:...|2008-09-18 15:06:...|  93401|   92620|         2|    0|null| null|     null| 84.81666666666666|\n",
      "|     92620|2008-09-18 13:41:...|2008-09-18 15:06:...|  93404|   92620|         2|    1|null| null|     null| 85.23333333333333|\n",
      "+----------+--------------------+--------------------+-------+--------+----------+-----+----+-----+---------+------------------+\n",
      "only showing top 5 rows\n",
      "\n"
     ]
    }
   ],
   "source": [
    "python_df_response_time_per_question.show(5)"
   ]
  },
  {
   "cell_type": "markdown",
   "metadata": {},
   "source": [
    "# Question:\n",
    "Plot the two distributions in an appropriate format. What do you observe? Describe your findings and discuss the following distribution properties: mean, median, standard deviation."
   ]
  },
  {
   "cell_type": "markdown",
   "metadata": {},
   "source": [
    "# Anwser: \n",
    "In order to plot the distribution, we convert spark dataframe to pandas dataframe"
   ]
  },
  {
   "cell_type": "code",
   "execution_count": 22,
   "metadata": {},
   "outputs": [],
   "source": [
    "# We convert spark dataframe to pandas dataframe \n",
    "pd_java_time = java_df_response_time_per_question.select('Duration_minutes').toPandas()"
   ]
  },
  {
   "cell_type": "code",
   "execution_count": 23,
   "metadata": {},
   "outputs": [
    {
     "data": {
      "image/png": "[encoded data removed]",
      "text/plain": [
       "<Figure size 432x288 with 1 Axes>"
      ]
     },
     "metadata": {
      "needs_background": "light"
     },
     "output_type": "display_data"
    }
   ],
   "source": [
    "#HIstogram for Java\n",
    "fig = plt.figure()\n",
    "ax = fig.add_subplot(111)\n",
    "n, bins, rectangles = ax.hist(pd_java_time.values, bins=np.logspace(1,np.log10(pd_java_time.values.max()), 50), density=True)\n",
    "fig.canvas.draw()\n",
    "plt.yscale('log')\n",
    "plt.xscale('log')\n",
    "# plt.xticks(rotation=30)\n",
    "plt.xlabel('Time to first anwser')\n",
    "plt.ylabel('Proportion')\n",
    "plt.title('Distribution of time for the 1st anwser for java')\n",
    "plt.show()"
   ]
  },
  {
   "cell_type": "code",
   "execution_count": 24,
   "metadata": {},
   "outputs": [],
   "source": [
    "#We convert spark dataframe to pandas dataframe \n",
    "pd_python_time = python_df_response_time_per_question.select('Duration_minutes').toPandas()"
   ]
  },
  {
   "cell_type": "code",
   "execution_count": 25,
   "metadata": {},
   "outputs": [
    {
     "data": {
      "image/png": "[encoded data removed]",
      "text/plain": [
       "<Figure size 432x288 with 1 Axes>"
      ]
     },
     "metadata": {
      "needs_background": "light"
     },
     "output_type": "display_data"
    }
   ],
   "source": [
    "#HIstogram for Python\n",
    "fig = plt.figure()\n",
    "ax = fig.add_subplot(111)\n",
    "n, bins, rectangles = ax.hist(pd_python_time.values, bins=np.logspace(1,np.log10(pd_python_time.values.max()), 50), density=True)\n",
    "fig.canvas.draw()\n",
    "plt.yscale('log')\n",
    "plt.xscale('log')\n",
    "# plt.xticks(rotation=30)\n",
    "plt.xlabel('Time to first anwser')\n",
    "plt.ylabel('Proportion')\n",
    "plt.title('Distribution of time for the 1st anwser for Python')\n",
    "plt.show()"
   ]
  },
  {
   "cell_type": "markdown",
   "metadata": {},
   "source": [
    "These distribution are almost the same. They both follow a logarithmic distribution. For most of the questions on stackoverflow, the duration time for the first anwser is about 10min. "
   ]
  },
  {
   "cell_type": "markdown",
   "metadata": {},
   "source": [
    "We display all the statistical detail of the data set for Python (mean and std)\n"
   ]
  },
  {
   "cell_type": "code",
   "execution_count": 40,
   "metadata": {},
   "outputs": [
    {
     "data": {
      "text/plain": [
       "132486.63222518357"
      ]
     },
     "execution_count": 40,
     "metadata": {},
     "output_type": "execute_result"
    }
   ],
   "source": [
    "pd_python_time.Duration_minutes.mean()"
   ]
  },
  {
   "cell_type": "code",
   "execution_count": 41,
   "metadata": {},
   "outputs": [
    {
     "data": {
      "text/plain": [
       "519315.1998408248"
      ]
     },
     "execution_count": 41,
     "metadata": {},
     "output_type": "execute_result"
    }
   ],
   "source": [
    "pd_python_time.Duration_minutes.std()"
   ]
  },
  {
   "cell_type": "markdown",
   "metadata": {},
   "source": [
    "We display all the statistical detail of the data set for Java (mean and std)\n"
   ]
  },
  {
   "cell_type": "code",
   "execution_count": 42,
   "metadata": {},
   "outputs": [
    {
     "data": {
      "text/plain": [
       "117265.82542522086"
      ]
     },
     "execution_count": 42,
     "metadata": {},
     "output_type": "execute_result"
    }
   ],
   "source": [
    "pd_java_time.Duration_minutes.mean()"
   ]
  },
  {
   "cell_type": "code",
   "execution_count": 43,
   "metadata": {},
   "outputs": [
    {
     "data": {
      "text/plain": [
       "476003.09542440664"
      ]
     },
     "execution_count": 43,
     "metadata": {},
     "output_type": "execute_result"
    }
   ],
   "source": [
    "pd_java_time.Duration_minutes.std()"
   ]
  },
  {
   "cell_type": "code",
   "execution_count": 44,
   "metadata": {},
   "outputs": [
    {
     "data": {
      "text/html": [
       "<div>\n",
       "<style scoped>\n",
       "    .dataframe tbody tr th:only-of-type {\n",
       "        vertical-align: middle;\n",
       "    }\n",
       "\n",
       "    .dataframe tbody tr th {\n",
       "        vertical-align: top;\n",
       "    }\n",
       "\n",
       "    .dataframe thead th {\n",
       "        text-align: right;\n",
       "    }\n",
       "</style>\n",
       "<table border=\"1\" class=\"dataframe\">\n",
       "  <thead>\n",
       "    <tr style=\"text-align: right;\">\n",
       "      <th></th>\n",
       "      <th>Duration_minutes</th>\n",
       "    </tr>\n",
       "  </thead>\n",
       "  <tbody>\n",
       "    <tr>\n",
       "      <th>0.25</th>\n",
       "      <td>7.800000</td>\n",
       "    </tr>\n",
       "    <tr>\n",
       "      <th>0.50</th>\n",
       "      <td>24.116667</td>\n",
       "    </tr>\n",
       "    <tr>\n",
       "      <th>0.75</th>\n",
       "      <td>299.716667</td>\n",
       "    </tr>\n",
       "  </tbody>\n",
       "</table>\n",
       "</div>"
      ],
      "text/plain": [
       "      Duration_minutes\n",
       "0.25          7.800000\n",
       "0.50         24.116667\n",
       "0.75        299.716667"
      ]
     },
     "execution_count": 44,
     "metadata": {},
     "output_type": "execute_result"
    }
   ],
   "source": [
    "#Median python\n",
    "pd_python_time_sorted = pd_python_time.sort_values('Duration_minutes')\n",
    "pd_python_time_sorted.quantile([0.25,0.5,0.75]) # show the quantile for python\n"
   ]
  },
  {
   "cell_type": "code",
   "execution_count": 45,
   "metadata": {},
   "outputs": [
    {
     "data": {
      "text/html": [
       "<div>\n",
       "<style scoped>\n",
       "    .dataframe tbody tr th:only-of-type {\n",
       "        vertical-align: middle;\n",
       "    }\n",
       "\n",
       "    .dataframe tbody tr th {\n",
       "        vertical-align: top;\n",
       "    }\n",
       "\n",
       "    .dataframe thead th {\n",
       "        text-align: right;\n",
       "    }\n",
       "</style>\n",
       "<table border=\"1\" class=\"dataframe\">\n",
       "  <thead>\n",
       "    <tr style=\"text-align: right;\">\n",
       "      <th></th>\n",
       "      <th>Duration_minutes</th>\n",
       "    </tr>\n",
       "  </thead>\n",
       "  <tbody>\n",
       "    <tr>\n",
       "      <th>0.25</th>\n",
       "      <td>7.800000</td>\n",
       "    </tr>\n",
       "    <tr>\n",
       "      <th>0.50</th>\n",
       "      <td>24.116667</td>\n",
       "    </tr>\n",
       "    <tr>\n",
       "      <th>0.75</th>\n",
       "      <td>299.716667</td>\n",
       "    </tr>\n",
       "  </tbody>\n",
       "</table>\n",
       "</div>"
      ],
      "text/plain": [
       "      Duration_minutes\n",
       "0.25          7.800000\n",
       "0.50         24.116667\n",
       "0.75        299.716667"
      ]
     },
     "execution_count": 45,
     "metadata": {},
     "output_type": "execute_result"
    }
   ],
   "source": [
    "#median java\n",
    "pd_java_time_sorted = pd_java_time.sort_values('Duration_minutes')\n",
    "pd_java_time_sorted.quantile([0.25,0.5,0.75])"
   ]
  },
  {
   "cell_type": "markdown",
   "metadata": {},
   "source": [
    "The mean for both python and java is large, but the median is around 24 minutes. This is probably because some questions have there 1st awnsers,  10 years after the q "
   ]
  },
  {
   "cell_type": "markdown",
   "metadata": {},
   "source": [
    "# Question:\n",
    "We believe that the response time is lower for questions related to Python (compare to Java). Contradict or confirm this assumption by estimating the proper statistic with bootstrapping. Visualize the 95% confidence intervals with box plots and describe your findings."
   ]
  },
  {
   "cell_type": "code",
   "execution_count": 42,
   "metadata": {},
   "outputs": [
    {
     "data": {
      "image/png": "[encoded data removed]",
      "text/plain": [
       "<Figure size 432x288 with 1 Axes>"
      ]
     },
     "metadata": {},
     "output_type": "display_data"
    }
   ],
   "source": [
    "pd_python_time_sorted = pd_python_time.sort_values('Duration_minutes')\n",
    "pd_python_time_sorted.quantile([0.25,0.5,0.75]) # show the quantile for python\n",
    "pd_java_time_sorted = pd_java_time.sort_values('Duration_minutes')\n",
    "pd_java_time_sorted.quantile([0.25,0.5,0.75])\n",
    "time = pd.DataFrame()\n",
    "time['Duration_java'] = pd_java_time_sorted['Duration_minutes']\n",
    "time['Duration_python'] = pd_python_time_sorted['Duration_minutes']\n",
    "boxplot = time.boxplot(column=['Duration_java','Duration_python'],showfliers=False)"
   ]
  },
  {
   "cell_type": "markdown",
   "metadata": {},
   "source": [
    "# Answer:\n",
    "Even if the mean and the median is almost the same for python and java, if we consider the quantiles for python and java, it seems that the duration time for the 1st anwser is less important in java topics than in python."
   ]
  },
  {
   "cell_type": "markdown",
   "metadata": {},
   "source": [
    "# Question:\n",
    "Repeat the first analysis (D1) by using the proper statistic to measure the response time for the tags that appear at least 5000 times. Plot the distribution of the 10 tags with the fastest response time."
   ]
  },
  {
   "cell_type": "code",
   "execution_count": null,
   "metadata": {},
   "outputs": [],
   "source": [
    "from pyspark.sql.functions import desc\n",
    "posts_groupby_Tag = posts_final.groupby('Tags').count()\n",
    "posts_5000_tags = posts_groupby_Tag.filter(\"`count` >= 5000\").orderBy('count', ascending=False)\n",
    "posts_5000_tags.head(20)\n"
   ]
  },
  {
   "cell_type": "markdown",
   "metadata": {},
   "source": [
    "### Task E: What's up with PySpark?\n",
    "The number of questions asked regarding a specific topic reflect the public’s interest on it. We are interested on the popularity of PySpark. Compute and plot the number of questions with the ```pyspark``` tag for 30-day time intervals. Do you notice any trend over time? Is there any correlation between time and number of questions?\n"
   ]
  },
  {
   "cell_type": "code",
   "execution_count": 44,
   "metadata": {},
   "outputs": [
    {
     "name": "stdout",
     "output_type": "stream",
     "text": [
      "Total number of pyspark questions: 10484\n"
     ]
    }
   ],
   "source": [
    "#Getting pyspark questions\n",
    "pyspark_questions = posts.filter(posts.Tags.contains('pyspark'))\n",
    "print(\"Total number of pyspark questions: \" + str(pyspark_questions.count()))"
   ]
  },
  {
   "cell_type": "code",
   "execution_count": 45,
   "metadata": {},
   "outputs": [],
   "source": [
    "pyspark_quest_date_parsed = pyspark_questions.withColumn('CreationDate', regexp_replace('CreationDate', ':', ''))"
   ]
  },
  {
   "cell_type": "code",
   "execution_count": 46,
   "metadata": {},
   "outputs": [
    {
     "name": "stdout",
     "output_type": "stream",
     "text": [
      "root\n",
      " |-- CreationDate: timestamp (nullable = true)\n",
      " |-- Id: long (nullable = true)\n",
      " |-- ParentId: long (nullable = true)\n",
      " |-- PostTypeId: long (nullable = true)\n",
      " |-- Score: long (nullable = true)\n",
      " |-- Tags: string (nullable = true)\n",
      " |-- Title: string (nullable = true)\n",
      " |-- ViewCount: long (nullable = true)\n",
      "\n"
     ]
    }
   ],
   "source": [
    "#Converting string to date thanks to the function declared in D.1 question\n",
    "pyspark_quest_date_converted = pyspark_quest_date_parsed.withColumn('CreationDate', func(col('CreationDate')))\n",
    "pyspark_quest_date_converted.printSchema()"
   ]
  },
  {
   "cell_type": "markdown",
   "metadata": {},
   "source": [
    "# Question:\n",
    "Compute and plot the number of questions with the pyspark tag for 30-day time intervals\n",
    "\n",
    "Do you notice any trend over time?"
   ]
  },
  {
   "cell_type": "code",
   "execution_count": 51,
   "metadata": {},
   "outputs": [
    {
     "name": "stdout",
     "output_type": "stream",
     "text": [
      "Number of pyspark questions for several 30-days intervals until 2014:\n",
      "March 2018: 482\n",
      "October 2017: 361\n",
      "May 2017: 295\n",
      "December 2016: 245\n",
      "July 2016: 250\n",
      "February 2016: 186\n",
      "September 2015: 96\n",
      "April 2015: 56\n",
      "November 2014: 4\n",
      "June 2014: 0\n"
     ]
    }
   ],
   "source": [
    "from pyspark.sql.functions import unix_timestamp, lit\n",
    "from datetime import datetime, timedelta\n",
    "import dateutil.relativedelta\n",
    "#Getting date of 3 month ago because there is no data since this date\n",
    "date = datetime.now() - dateutil.relativedelta.relativedelta(months=3)\n",
    "\n",
    "cols = ['Period','Starting_Period_Date','Pyspark_Questions_Count']\n",
    "lst = []\n",
    "print(\"Number of pyspark questions for several 30-days intervals until 2014:\")\n",
    "\n",
    "#This loop is time consuming because we are fetching multiples intervals to get\n",
    "for i in range(10):\n",
    "    #calculating 30-days intervals every 7 months until 2014\n",
    "    date = date - dateutil.relativedelta.relativedelta(months=4)\n",
    "    date_30days_ago = date - dateutil.relativedelta.relativedelta(months=1)\n",
    "    #Getting all questions between date and date_30days_ago\n",
    "    pyspark_quest_perMonth = pyspark_quest_date_converted.filter(pyspark_quest_date_converted[\"CreationDate\"] >= lit(date_30days_ago)) \\\n",
    "       .filter(pyspark_quest_date_converted[\"CreationDate\"] <= lit(date))\n",
    "    count = pyspark_quest_perMonth.count()\n",
    "    #Adding date and pyspark question count to a list\n",
    "    lst.append([str(date_30days_ago.month) + \"/\" +  str(date_30days_ago.year)[2:],date_30days_ago,count])\n",
    "    print(date_30days_ago.strftime(\"%B\") + \" \" +  str(date_30days_ago.year)+ \": \" + str(count))\n",
    "    date = date_30days_ago\n",
    "\n",
    "#Adding list to a dataframe to calculate correlation\n",
    "pyspark_question_count_per_month=pd.DataFrame(lst, columns=cols)"
   ]
  },
  {
   "cell_type": "markdown",
   "metadata": {},
   "source": [
    "# Answer:\n",
    "According to Wikipedia, Spark was created in 2014 (https://fr.wikipedia.org/wiki/Apache_Spark)\n",
    "We can see, thanks to the cell's result above, that pyspark has been gaining reputation since 2014. "
   ]
  },
  {
   "cell_type": "markdown",
   "metadata": {},
   "source": [
    "# Question:\n",
    "Is there any correlation between time and number of questions?"
   ]
  },
  {
   "cell_type": "code",
   "execution_count": 52,
   "metadata": {},
   "outputs": [
    {
     "name": "stdout",
     "output_type": "stream",
     "text": [
      "Correlation between date and pyspark questions count: 0.9824394493848322\n"
     ]
    }
   ],
   "source": [
    "#Converting date to apply correlation\n",
    "pyspark_question_count_per_month.Starting_Period_Date=pd.to_datetime(pyspark_question_count_per_month.Starting_Period_Date)\n",
    "pyspark_question_count_per_month.Starting_Period_Date=pd.to_numeric(pyspark_question_count_per_month.Starting_Period_Date)\n",
    "#Displaying correlation\n",
    "print('Correlation between date and pyspark questions count: ' + \n",
    "      str(pyspark_question_count_per_month[\"Starting_Period_Date\"].corr(pyspark_question_count_per_month[\"Pyspark_Questions_Count\"])))"
   ]
  },
  {
   "cell_type": "code",
   "execution_count": 53,
   "metadata": {},
   "outputs": [
    {
     "data": {
      "image/png": "[encoded data removed]",
      "text/plain": [
       "<Figure size 432x432 with 1 Axes>"
      ]
     },
     "metadata": {},
     "output_type": "display_data"
    }
   ],
   "source": [
    "import matplotlib\n",
    "import matplotlib.pyplot as plt\n",
    "%matplotlib inline\n",
    "#Displaying pyspark questions count in function of the date to see correlation\n",
    "plt.figure(figsize=(6,6))\n",
    "plt.scatter(pyspark_question_count_per_month[\"Period\"], pyspark_question_count_per_month[\"Pyspark_Questions_Count\"])\n",
    "\n",
    "matplotlib.style.use('ggplot')\n",
    "plt.title('pyspark questions count in function of the date')\n",
    "plt.xlabel('Date (mm/YY)')\n",
    "plt.ylabel('count')\n",
    "plt.gca().invert_xaxis()\n",
    "plt.show()"
   ]
  },
  {
   "cell_type": "markdown",
   "metadata": {},
   "source": [
    "# Answer:\n",
    "Thanks to the corr() function and the scatter plot, we can affirme that there is a strong correlation \n",
    "between the time and the number of question related to pyspark. It certainly comes from the fact that pyspark becomes more and more popular since its creation in 2014."
   ]
  }
 ],
 "metadata": {
  "kernelspec": {
   "display_name": "Python 3",
   "language": "python",
   "name": "python3"
  },
  "language_info": {
   "codemirror_mode": {
    "name": "ipython",
    "version": 3
   },
   "file_extension": ".py",
   "mimetype": "text/x-python",
   "name": "python",
   "nbconvert_exporter": "python",
   "pygments_lexer": "ipython3",
   "version": "3.6.5"
  }
 },
 "nbformat": 4,
 "nbformat_minor": 2
}
